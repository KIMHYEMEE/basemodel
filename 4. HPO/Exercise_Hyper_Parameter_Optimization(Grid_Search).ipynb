{
  "nbformat": 4,
  "nbformat_minor": 0,
  "metadata": {
    "colab": {
      "name": "Exercise: Hyper Parameter Optimization(Grid Search)",
      "provenance": [],
      "collapsed_sections": [],
      "authorship_tag": "ABX9TyO0XSdD4D5owZM+Xn0Yp+77"
    },
    "kernelspec": {
      "name": "python3",
      "display_name": "Python 3"
    },
    "language_info": {
      "name": "python"
    }
  },
  "cells": [
    {
      "cell_type": "markdown",
      "metadata": {
        "id": "JlRCWkjjxYQ3"
      },
      "source": [
        "Ref.: https://www.kaggle.com/prashant111/mnist-deep-neural-network-with-keras#5.-Designing-model-architecture-using-Keras-"
      ]
    },
    {
      "cell_type": "markdown",
      "metadata": {
        "id": "VgCkNpZ44ihc"
      },
      "source": [
        "# 1. Load and Preprocessing Data"
      ]
    },
    {
      "cell_type": "code",
      "metadata": {
        "id": "U6E2JX0JwoKS"
      },
      "source": [
        "from keras.datasets import mnist\n",
        "import numpy as np"
      ],
      "execution_count": null,
      "outputs": []
    },
    {
      "cell_type": "code",
      "metadata": {
        "colab": {
          "base_uri": "https://localhost:8080/"
        },
        "id": "TbRlPxaEwqlZ",
        "outputId": "0a2c5bfe-03ee-441e-c095-f1653ae5e2e2"
      },
      "source": [
        "(x_train, y_train), (x_test, y_test) = mnist.load_data()\n",
        "\n",
        "unique, counts = np.unique(y_train, return_counts=True)\n",
        "print(\"Train labels: \", dict(zip(unique, counts)))\n",
        "\n",
        "unique, counts = np.unique(y_test, return_counts=True)\n",
        "print(\"\\nTest labels: \", dict(zip(unique, counts)))"
      ],
      "execution_count": null,
      "outputs": [
        {
          "output_type": "stream",
          "name": "stdout",
          "text": [
            "Downloading data from https://storage.googleapis.com/tensorflow/tf-keras-datasets/mnist.npz\n",
            "11493376/11490434 [==============================] - 0s 0us/step\n",
            "11501568/11490434 [==============================] - 0s 0us/step\n",
            "Train labels:  {0: 5923, 1: 6742, 2: 5958, 3: 6131, 4: 5842, 5: 5421, 6: 5918, 7: 6265, 8: 5851, 9: 5949}\n",
            "\n",
            "Test labels:  {0: 980, 1: 1135, 2: 1032, 3: 1010, 4: 982, 5: 892, 6: 958, 7: 1028, 8: 974, 9: 1009}\n"
          ]
        }
      ]
    },
    {
      "cell_type": "code",
      "metadata": {
        "colab": {
          "base_uri": "https://localhost:8080/"
        },
        "id": "dVD_oLAhxUr_",
        "outputId": "460ac74d-e1d5-4d6c-afa8-f9109b7e6693"
      },
      "source": [
        "print(x_train.shape)"
      ],
      "execution_count": null,
      "outputs": [
        {
          "output_type": "stream",
          "name": "stdout",
          "text": [
            "(60000, 28, 28)\n"
          ]
        }
      ]
    },
    {
      "cell_type": "code",
      "metadata": {
        "colab": {
          "base_uri": "https://localhost:8080/"
        },
        "id": "xgaZo-njxmGw",
        "outputId": "96ee322d-c8e1-40b7-caa0-c763ee9fffb5"
      },
      "source": [
        "input_size = x_train.shape[1] * x_train.shape[2]\n",
        "print(input_size)"
      ],
      "execution_count": null,
      "outputs": [
        {
          "output_type": "stream",
          "name": "stdout",
          "text": [
            "784\n"
          ]
        }
      ]
    },
    {
      "cell_type": "code",
      "metadata": {
        "id": "4gN1BADFxxAK"
      },
      "source": [
        "x_train = np.reshape(x_train, [-1, input_size])\n",
        "x_test = np.reshape(x_test, [-1, input_size])"
      ],
      "execution_count": null,
      "outputs": []
    },
    {
      "cell_type": "code",
      "metadata": {
        "colab": {
          "base_uri": "https://localhost:8080/"
        },
        "id": "PPVlCrs5yKvr",
        "outputId": "582f1461-0e84-4e82-d337-f595eb62d934"
      },
      "source": [
        "print(x_train.shape)"
      ],
      "execution_count": null,
      "outputs": [
        {
          "output_type": "stream",
          "name": "stdout",
          "text": [
            "(60000, 784)\n"
          ]
        }
      ]
    },
    {
      "cell_type": "code",
      "metadata": {
        "id": "X9ydsz9_yC8e"
      },
      "source": [
        "x_train = x_train.astype('float32') / 255\n",
        "x_test = x_test.astype('float32') / 255"
      ],
      "execution_count": null,
      "outputs": []
    },
    {
      "cell_type": "code",
      "metadata": {
        "id": "nKqt_PVzxBU-"
      },
      "source": [
        "n_labels = len(np.unique(y_train))"
      ],
      "execution_count": null,
      "outputs": []
    },
    {
      "cell_type": "code",
      "metadata": {
        "id": "VlAzC1EU2drT"
      },
      "source": [
        "from tensorflow.keras.utils import to_categorical"
      ],
      "execution_count": null,
      "outputs": []
    },
    {
      "cell_type": "code",
      "metadata": {
        "colab": {
          "base_uri": "https://localhost:8080/"
        },
        "id": "CzokYhhBxNA1",
        "outputId": "6b3fc43e-6874-4d2f-8e72-35a9c5e92107"
      },
      "source": [
        "print(y_train[0])"
      ],
      "execution_count": null,
      "outputs": [
        {
          "output_type": "stream",
          "name": "stdout",
          "text": [
            "5\n"
          ]
        }
      ]
    },
    {
      "cell_type": "code",
      "metadata": {
        "id": "loFph0o_xH6j"
      },
      "source": [
        "y_train = to_categorical(y_train)\n",
        "y_test = to_categorical(y_test)"
      ],
      "execution_count": null,
      "outputs": []
    },
    {
      "cell_type": "code",
      "metadata": {
        "colab": {
          "base_uri": "https://localhost:8080/"
        },
        "id": "kgHKv-_sxPXz",
        "outputId": "3acf576f-cdf3-4338-db3f-19790ae47ee5"
      },
      "source": [
        "print(y_train[0])"
      ],
      "execution_count": null,
      "outputs": [
        {
          "output_type": "stream",
          "name": "stdout",
          "text": [
            "[0. 0. 0. 0. 0. 1. 0. 0. 0. 0.]\n"
          ]
        }
      ]
    },
    {
      "cell_type": "markdown",
      "metadata": {
        "id": "P3d2Xlbl40ML"
      },
      "source": [
        "# 2. Define Hyperparameter Set"
      ]
    },
    {
      "cell_type": "code",
      "metadata": {
        "id": "pd2glHV85DVa"
      },
      "source": [
        "batch_size_set = [32,64,128]\n",
        "hidden_units_set = [64,128,256]\n",
        "optimizer_set = ['Adam', 'rmsprop']"
      ],
      "execution_count": null,
      "outputs": []
    },
    {
      "cell_type": "markdown",
      "metadata": {
        "id": "kH8iVd1d5t9d"
      },
      "source": [
        "## Fixed Hyperparameters"
      ]
    },
    {
      "cell_type": "code",
      "metadata": {
        "id": "DIN0gxXWyZ3x"
      },
      "source": [
        "dropout = 0.45\n",
        "act_fn = 'relu'"
      ],
      "execution_count": null,
      "outputs": []
    },
    {
      "cell_type": "markdown",
      "metadata": {
        "id": "oCtpdkREUazi"
      },
      "source": [
        "# 3. Searching"
      ]
    },
    {
      "cell_type": "code",
      "metadata": {
        "id": "G3cdr-sA2w0C"
      },
      "source": [
        "from mlp import *"
      ],
      "execution_count": null,
      "outputs": []
    },
    {
      "cell_type": "code",
      "metadata": {
        "id": "iMqUI-m-FHBa"
      },
      "source": [
        "import pandas as pd"
      ],
      "execution_count": null,
      "outputs": []
    },
    {
      "cell_type": "code",
      "metadata": {
        "id": "hrkgE4YhFJDH"
      },
      "source": [
        "df = pd.DataFrame({'batch_size':[],\n",
        "                'hidden_units':[],\n",
        "                'optimizer':[],\n",
        "                'test_acc':[]})"
      ],
      "execution_count": null,
      "outputs": []
    },
    {
      "cell_type": "code",
      "metadata": {
        "colab": {
          "base_uri": "https://localhost:8080/"
        },
        "id": "r5btw57EE2sh",
        "outputId": "03fe06f7-e81f-46e6-c1f2-cfd18971b7e3"
      },
      "source": [
        "for batch_size in batch_size_set:\n",
        "  for hidden_units in hidden_units_set:\n",
        "    for optimizer in optimizer_set:\n",
        "      model = MLP(input_size, n_labels, hidden_units, act_fn, dropout)\n",
        "      model.compile(loss='categorical_crossentropy',\n",
        "              optimizer = optimizer,\n",
        "              metrics = ['accuracy'])\n",
        "      model.fit(x_train, y_train, epochs = 10, batch_size=batch_size, verbose = 0)\n",
        "      loss, acc = model.evaluate(x_test, y_test, batch_size=batch_size)\n",
        "      \n",
        "      rlt = {'batch_size':batch_size,\n",
        "             'hidden_units':hidden_units,\n",
        "             'optimizer':optimizer,\n",
        "             'test_acc':acc*100} \n",
        "      print(rlt)     \n",
        "      df = df.append(rlt,ignore_index=True)"
      ],
      "execution_count": null,
      "outputs": [
        {
          "output_type": "stream",
          "name": "stdout",
          "text": [
            "313/313 [==============================] - 1s 1ms/step - loss: 0.1246 - accuracy: 0.9647\n",
            "{'batch_size': 32, 'hidden_units': 64, 'optimizer': 'Adam', 'test_acc': 96.46999835968018}\n",
            "313/313 [==============================] - 1s 1ms/step - loss: 0.2221 - accuracy: 0.9569\n",
            "{'batch_size': 32, 'hidden_units': 64, 'optimizer': 'rmsprop', 'test_acc': 95.69000005722046}\n",
            "313/313 [==============================] - 1s 1ms/step - loss: 0.0799 - accuracy: 0.9764\n",
            "{'batch_size': 32, 'hidden_units': 128, 'optimizer': 'Adam', 'test_acc': 97.64000177383423}\n",
            "313/313 [==============================] - 1s 1ms/step - loss: 0.2018 - accuracy: 0.9680\n",
            "{'batch_size': 32, 'hidden_units': 128, 'optimizer': 'rmsprop', 'test_acc': 96.79999947547913}\n",
            "313/313 [==============================] - 1s 2ms/step - loss: 0.0714 - accuracy: 0.9793\n",
            "{'batch_size': 32, 'hidden_units': 256, 'optimizer': 'Adam', 'test_acc': 97.93000221252441}\n",
            "313/313 [==============================] - 1s 2ms/step - loss: 0.1717 - accuracy: 0.9762\n",
            "{'batch_size': 32, 'hidden_units': 256, 'optimizer': 'rmsprop', 'test_acc': 97.61999845504761}\n",
            "157/157 [==============================] - 0s 1ms/step - loss: 0.1183 - accuracy: 0.9655\n",
            "{'batch_size': 64, 'hidden_units': 64, 'optimizer': 'Adam', 'test_acc': 96.5499997138977}\n",
            "157/157 [==============================] - 0s 2ms/step - loss: 0.1778 - accuracy: 0.9596\n",
            "{'batch_size': 64, 'hidden_units': 64, 'optimizer': 'rmsprop', 'test_acc': 95.95999717712402}\n",
            "157/157 [==============================] - 0s 2ms/step - loss: 0.0830 - accuracy: 0.9747\n",
            "{'batch_size': 64, 'hidden_units': 128, 'optimizer': 'Adam', 'test_acc': 97.46999740600586}\n",
            "157/157 [==============================] - 0s 2ms/step - loss: 0.1423 - accuracy: 0.9693\n",
            "{'batch_size': 64, 'hidden_units': 128, 'optimizer': 'rmsprop', 'test_acc': 96.92999720573425}\n",
            "157/157 [==============================] - 1s 3ms/step - loss: 0.0700 - accuracy: 0.9801\n",
            "{'batch_size': 64, 'hidden_units': 256, 'optimizer': 'Adam', 'test_acc': 98.00999760627747}\n",
            "157/157 [==============================] - 1s 3ms/step - loss: 0.1211 - accuracy: 0.9768\n",
            "{'batch_size': 64, 'hidden_units': 256, 'optimizer': 'rmsprop', 'test_acc': 97.680002450943}\n",
            "79/79 [==============================] - 0s 2ms/step - loss: 0.1301 - accuracy: 0.9618\n",
            "{'batch_size': 128, 'hidden_units': 64, 'optimizer': 'Adam', 'test_acc': 96.17999792098999}\n",
            "79/79 [==============================] - 0s 2ms/step - loss: 0.1468 - accuracy: 0.9610\n",
            "{'batch_size': 128, 'hidden_units': 64, 'optimizer': 'rmsprop', 'test_acc': 96.10000252723694}\n",
            "79/79 [==============================] - 0s 2ms/step - loss: 0.0837 - accuracy: 0.9755\n",
            "{'batch_size': 128, 'hidden_units': 128, 'optimizer': 'Adam', 'test_acc': 97.54999876022339}\n",
            "79/79 [==============================] - 0s 2ms/step - loss: 0.1045 - accuracy: 0.9750\n",
            "{'batch_size': 128, 'hidden_units': 128, 'optimizer': 'rmsprop', 'test_acc': 97.50000238418579}\n",
            "79/79 [==============================] - 0s 4ms/step - loss: 0.0669 - accuracy: 0.9800\n",
            "{'batch_size': 128, 'hidden_units': 256, 'optimizer': 'Adam', 'test_acc': 98.00000190734863}\n",
            "79/79 [==============================] - 0s 3ms/step - loss: 0.0953 - accuracy: 0.9776\n",
            "{'batch_size': 128, 'hidden_units': 256, 'optimizer': 'rmsprop', 'test_acc': 97.75999784469604}\n"
          ]
        }
      ]
    },
    {
      "cell_type": "markdown",
      "metadata": {
        "id": "oo6Sja-NUUZY"
      },
      "source": [
        "# 4. Results"
      ]
    },
    {
      "cell_type": "code",
      "metadata": {
        "colab": {
          "base_uri": "https://localhost:8080/"
        },
        "id": "Bna_VN9zU0rt",
        "outputId": "07c0dbfe-e6b2-47a3-db05-573e24b57283"
      },
      "source": [
        "print(df)"
      ],
      "execution_count": null,
      "outputs": [
        {
          "output_type": "stream",
          "name": "stdout",
          "text": [
            "    batch_size  hidden_units optimizer   test_acc\n",
            "0         32.0          64.0      Adam  96.469998\n",
            "1         32.0          64.0   rmsprop  95.690000\n",
            "2         32.0         128.0      Adam  97.640002\n",
            "3         32.0         128.0   rmsprop  96.799999\n",
            "4         32.0         256.0      Adam  97.930002\n",
            "5         32.0         256.0   rmsprop  97.619998\n",
            "6         64.0          64.0      Adam  96.550000\n",
            "7         64.0          64.0   rmsprop  95.959997\n",
            "8         64.0         128.0      Adam  97.469997\n",
            "9         64.0         128.0   rmsprop  96.929997\n",
            "10        64.0         256.0      Adam  98.009998\n",
            "11        64.0         256.0   rmsprop  97.680002\n",
            "12       128.0          64.0      Adam  96.179998\n",
            "13       128.0          64.0   rmsprop  96.100003\n",
            "14       128.0         128.0      Adam  97.549999\n",
            "15       128.0         128.0   rmsprop  97.500002\n",
            "16       128.0         256.0      Adam  98.000002\n",
            "17       128.0         256.0   rmsprop  97.759998\n"
          ]
        }
      ]
    },
    {
      "cell_type": "code",
      "metadata": {
        "colab": {
          "base_uri": "https://localhost:8080/",
          "height": 300
        },
        "id": "ftVZ8dVezVh7",
        "outputId": "6103cb45-70a5-445e-cba0-8524c7484605"
      },
      "source": [
        "df.describe()"
      ],
      "execution_count": null,
      "outputs": [
        {
          "output_type": "execute_result",
          "data": {
            "text/html": [
              "<div>\n",
              "<style scoped>\n",
              "    .dataframe tbody tr th:only-of-type {\n",
              "        vertical-align: middle;\n",
              "    }\n",
              "\n",
              "    .dataframe tbody tr th {\n",
              "        vertical-align: top;\n",
              "    }\n",
              "\n",
              "    .dataframe thead th {\n",
              "        text-align: right;\n",
              "    }\n",
              "</style>\n",
              "<table border=\"1\" class=\"dataframe\">\n",
              "  <thead>\n",
              "    <tr style=\"text-align: right;\">\n",
              "      <th></th>\n",
              "      <th>batch_size</th>\n",
              "      <th>hidden_units</th>\n",
              "      <th>test_acc</th>\n",
              "    </tr>\n",
              "  </thead>\n",
              "  <tbody>\n",
              "    <tr>\n",
              "      <th>count</th>\n",
              "      <td>18.000000</td>\n",
              "      <td>18.000000</td>\n",
              "      <td>18.000000</td>\n",
              "    </tr>\n",
              "    <tr>\n",
              "      <th>mean</th>\n",
              "      <td>74.666667</td>\n",
              "      <td>149.333333</td>\n",
              "      <td>97.102222</td>\n",
              "    </tr>\n",
              "    <tr>\n",
              "      <th>std</th>\n",
              "      <td>41.068093</td>\n",
              "      <td>82.136185</td>\n",
              "      <td>0.771276</td>\n",
              "    </tr>\n",
              "    <tr>\n",
              "      <th>min</th>\n",
              "      <td>32.000000</td>\n",
              "      <td>64.000000</td>\n",
              "      <td>95.690000</td>\n",
              "    </tr>\n",
              "    <tr>\n",
              "      <th>25%</th>\n",
              "      <td>32.000000</td>\n",
              "      <td>64.000000</td>\n",
              "      <td>96.489999</td>\n",
              "    </tr>\n",
              "    <tr>\n",
              "      <th>50%</th>\n",
              "      <td>64.000000</td>\n",
              "      <td>128.000000</td>\n",
              "      <td>97.485000</td>\n",
              "    </tr>\n",
              "    <tr>\n",
              "      <th>75%</th>\n",
              "      <td>128.000000</td>\n",
              "      <td>256.000000</td>\n",
              "      <td>97.670002</td>\n",
              "    </tr>\n",
              "    <tr>\n",
              "      <th>max</th>\n",
              "      <td>128.000000</td>\n",
              "      <td>256.000000</td>\n",
              "      <td>98.009998</td>\n",
              "    </tr>\n",
              "  </tbody>\n",
              "</table>\n",
              "</div>"
            ],
            "text/plain": [
              "       batch_size  hidden_units   test_acc\n",
              "count   18.000000     18.000000  18.000000\n",
              "mean    74.666667    149.333333  97.102222\n",
              "std     41.068093     82.136185   0.771276\n",
              "min     32.000000     64.000000  95.690000\n",
              "25%     32.000000     64.000000  96.489999\n",
              "50%     64.000000    128.000000  97.485000\n",
              "75%    128.000000    256.000000  97.670002\n",
              "max    128.000000    256.000000  98.009998"
            ]
          },
          "metadata": {},
          "execution_count": 19
        }
      ]
    },
    {
      "cell_type": "code",
      "metadata": {
        "id": "qu4rWjYWIwVI"
      },
      "source": [
        "best_idx = np.argmax(df['test_acc'])"
      ],
      "execution_count": null,
      "outputs": []
    },
    {
      "cell_type": "code",
      "metadata": {
        "colab": {
          "base_uri": "https://localhost:8080/"
        },
        "id": "o22R-TRjUI-9",
        "outputId": "fe97a7ca-dcff-4144-d2ea-74ee33ce77df"
      },
      "source": [
        "best_hp = df.iloc[best_idx,:]\n",
        "print(best_hp)"
      ],
      "execution_count": null,
      "outputs": [
        {
          "output_type": "stream",
          "name": "stdout",
          "text": [
            "batch_size         64\n",
            "hidden_units      256\n",
            "optimizer        Adam\n",
            "test_acc        98.01\n",
            "Name: 10, dtype: object\n"
          ]
        }
      ]
    }
  ]
}