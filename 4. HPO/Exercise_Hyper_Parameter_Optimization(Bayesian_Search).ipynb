{
  "nbformat": 4,
  "nbformat_minor": 0,
  "metadata": {
    "colab": {
      "name": "Exercise: Hyper Parameter Optimization(Bayesian Search).ipynb",
      "provenance": [],
      "collapsed_sections": [],
      "authorship_tag": "ABX9TyOw2jFOiP2jHqERvup/i0db"
    },
    "kernelspec": {
      "name": "python3",
      "display_name": "Python 3"
    },
    "language_info": {
      "name": "python"
    }
  },
  "cells": [
    {
      "cell_type": "markdown",
      "metadata": {
        "id": "m78dHUUgVck7"
      },
      "source": [
        "# 1. Load and Preprocessing Data"
      ]
    },
    {
      "cell_type": "code",
      "metadata": {
        "id": "smErxOr1VWKb"
      },
      "source": [
        "from keras.datasets import mnist\n",
        "import numpy as np"
      ],
      "execution_count": 1,
      "outputs": []
    },
    {
      "cell_type": "code",
      "metadata": {
        "colab": {
          "base_uri": "https://localhost:8080/"
        },
        "id": "yU72_cPSVhKy",
        "outputId": "935115e4-cf6d-43a2-cc3d-7657c512d739"
      },
      "source": [
        "(x_train, y_train), (x_test, y_test) = mnist.load_data()\n",
        "\n",
        "unique, counts = np.unique(y_train, return_counts=True)\n",
        "print(\"Train labels: \", dict(zip(unique, counts)))\n",
        "\n",
        "unique, counts = np.unique(y_test, return_counts=True)\n",
        "print(\"\\nTest labels: \", dict(zip(unique, counts)))"
      ],
      "execution_count": 2,
      "outputs": [
        {
          "output_type": "stream",
          "name": "stdout",
          "text": [
            "Train labels:  {0: 5923, 1: 6742, 2: 5958, 3: 6131, 4: 5842, 5: 5421, 6: 5918, 7: 6265, 8: 5851, 9: 5949}\n",
            "\n",
            "Test labels:  {0: 980, 1: 1135, 2: 1032, 3: 1010, 4: 982, 5: 892, 6: 958, 7: 1028, 8: 974, 9: 1009}\n"
          ]
        }
      ]
    },
    {
      "cell_type": "code",
      "metadata": {
        "id": "syStldAmViRQ"
      },
      "source": [
        "input_size = x_train.shape[1] * x_train.shape[2]"
      ],
      "execution_count": 3,
      "outputs": []
    },
    {
      "cell_type": "code",
      "metadata": {
        "id": "-2CmKmOdVmon"
      },
      "source": [
        "x_train = np.reshape(x_train, [-1, input_size])\n",
        "x_test = np.reshape(x_test, [-1, input_size])"
      ],
      "execution_count": 4,
      "outputs": []
    },
    {
      "cell_type": "code",
      "metadata": {
        "id": "0XMxDfy5Vnp9"
      },
      "source": [
        "x_train = x_train.astype('float32') / 255\n",
        "x_test = x_test.astype('float32') / 255"
      ],
      "execution_count": 5,
      "outputs": []
    },
    {
      "cell_type": "code",
      "metadata": {
        "id": "NXjAUXAoVoup"
      },
      "source": [
        "n_labels = len(np.unique(y_train))"
      ],
      "execution_count": 6,
      "outputs": []
    },
    {
      "cell_type": "code",
      "metadata": {
        "id": "QPu9JA_3Vqkz"
      },
      "source": [
        "from tensorflow.keras.utils import to_categorical"
      ],
      "execution_count": 7,
      "outputs": []
    },
    {
      "cell_type": "code",
      "metadata": {
        "id": "Jbt5sEmEVuLV"
      },
      "source": [
        "y_train = to_categorical(y_train)\n",
        "y_test = to_categorical(y_test)"
      ],
      "execution_count": 8,
      "outputs": []
    },
    {
      "cell_type": "markdown",
      "metadata": {
        "id": "8KHIj3W7VyLE"
      },
      "source": [
        "# 2. Define Hyperparameter Set"
      ]
    },
    {
      "cell_type": "code",
      "metadata": {
        "id": "QAZ9NZg9V0CB"
      },
      "source": [
        "hidden_units_set = {'min':32,\n",
        "                    'max':256}\n",
        "dropout_set = {'min':0.2,\n",
        "               'max':0.8}"
      ],
      "execution_count": 9,
      "outputs": []
    },
    {
      "cell_type": "markdown",
      "metadata": {
        "id": "RLpcvSGPWIdF"
      },
      "source": [
        "## Fixed Hyperparameters"
      ]
    },
    {
      "cell_type": "code",
      "metadata": {
        "id": "-MMkYMmBWHmR"
      },
      "source": [
        "batch_size = 64\n",
        "optimizer = 'Adam'\n",
        "act_fn = 'relu'"
      ],
      "execution_count": 10,
      "outputs": []
    },
    {
      "cell_type": "markdown",
      "metadata": {
        "id": "Qq7-hzpEWTHz"
      },
      "source": [
        "# 3. Define functions for Bayesian Optimization"
      ]
    },
    {
      "cell_type": "code",
      "metadata": {
        "id": "YBJmc3l8WYd4"
      },
      "source": [
        "from scipy.stats import norm\n",
        "\n",
        "def expected_improvement(mean, std, max_val):\n",
        "\tz = (mean - max_val ) / (std + 1e-10)\n",
        "\treturn (mean-max_val) * norm.cdf(z) + std * norm.pdf(z)"
      ],
      "execution_count": 11,
      "outputs": []
    },
    {
      "cell_type": "code",
      "metadata": {
        "id": "I9fbvUiuaw3W"
      },
      "source": [
        "from mlp import *\n",
        "\n",
        "def f(x, batch_size = batch_size, optimizer = optimizer, act_fn = act_fn):\n",
        "  hidden_units = x['hidden_units']\n",
        "  dropout = x['dropout']\n",
        "  model = MLP(input_size, n_labels, hidden_units, act_fn, dropout)\n",
        "  model.compile(loss='categorical_crossentropy',\n",
        "              optimizer = optimizer,\n",
        "              metrics = ['accuracy'])\n",
        "  model.fit(x_train, y_train, epochs = 10, batch_size=batch_size, verbose = 0)\n",
        "  loss, acc = model.evaluate(x_test, y_test, batch_size=batch_size)\n",
        "\n",
        "  return acc"
      ],
      "execution_count": 12,
      "outputs": []
    },
    {
      "cell_type": "markdown",
      "metadata": {
        "id": "lGkSyFLaWjFD"
      },
      "source": [
        "# 4. Searching"
      ]
    },
    {
      "cell_type": "markdown",
      "metadata": {
        "id": "0gnglREieUUm"
      },
      "source": [
        "## Initialization"
      ]
    },
    {
      "cell_type": "code",
      "metadata": {
        "id": "GZKutCehcYBf"
      },
      "source": [
        "init_n = 5\n",
        "sample_n = 10"
      ],
      "execution_count": 13,
      "outputs": []
    },
    {
      "cell_type": "code",
      "metadata": {
        "colab": {
          "base_uri": "https://localhost:8080/"
        },
        "id": "d76HEsgsWk5U",
        "outputId": "9e1de5f6-c614-45e7-f2df-101c77cdc2b8"
      },
      "source": [
        "import pandas as pd\n",
        "x = pd.DataFrame({})\n",
        "x['hidden_units'] = np.random.randint(hidden_units_set['min'],hidden_units_set['max'],init_n)\n",
        "x['dropout'] = np.random.randint(dropout_set['min']*100,dropout_set['max']*100, init_n) / 100\n",
        "print(x)"
      ],
      "execution_count": 14,
      "outputs": [
        {
          "output_type": "stream",
          "name": "stdout",
          "text": [
            "   hidden_units  dropout\n",
            "0           110     0.59\n",
            "1            40     0.74\n",
            "2            74     0.27\n",
            "3           126     0.20\n",
            "4           120     0.62\n"
          ]
        }
      ]
    },
    {
      "cell_type": "code",
      "metadata": {
        "colab": {
          "base_uri": "https://localhost:8080/"
        },
        "id": "2rZx_H15dprQ",
        "outputId": "75837bb5-3a1a-43a7-85dc-15c074bda9e7"
      },
      "source": [
        "y = np.array([f(x.iloc[i,:]) for i in range(init_n)])"
      ],
      "execution_count": 15,
      "outputs": [
        {
          "output_type": "stream",
          "name": "stdout",
          "text": [
            "157/157 [==============================] - 0s 2ms/step - loss: 0.1222 - accuracy: 0.9625\n",
            "157/157 [==============================] - 0s 1ms/step - loss: 0.6107 - accuracy: 0.8810\n",
            "157/157 [==============================] - 0s 2ms/step - loss: 0.0825 - accuracy: 0.9751\n",
            "157/157 [==============================] - 0s 2ms/step - loss: 0.0722 - accuracy: 0.9799\n",
            "157/157 [==============================] - 0s 2ms/step - loss: 0.1249 - accuracy: 0.9647\n"
          ]
        }
      ]
    },
    {
      "cell_type": "markdown",
      "metadata": {
        "id": "ovLa2skDebmm"
      },
      "source": [
        "## Find Optimal Hyaperparameter"
      ]
    },
    {
      "cell_type": "code",
      "metadata": {
        "id": "klFq0FZueeoq"
      },
      "source": [
        "from sklearn.gaussian_process import GaussianProcessRegressor\n",
        "regressor = GaussianProcessRegressor()\n",
        "n_epoch = 30"
      ],
      "execution_count": 16,
      "outputs": []
    },
    {
      "cell_type": "code",
      "metadata": {
        "colab": {
          "base_uri": "https://localhost:8080/"
        },
        "id": "QRAqLXcqe-1u",
        "outputId": "203f2773-bf5c-4c5a-bdf2-cf9957b0de88"
      },
      "source": [
        "for _ in range(n_epoch):\n",
        "  # fit regressor\n",
        "  x_fit = x.copy()\n",
        "  x_fit['hidden_units'] = x_fit['hidden_units']/hidden_units_set['max']\n",
        "  regressor.fit(x_fit,y)\n",
        "\n",
        "  # make sample hyperparameter sets\n",
        "  x_sample = pd.DataFrame({})\n",
        "  x_sample['hidden_units'] = np.random.randint(hidden_units_set['min'],hidden_units_set['max'],sample_n)/hidden_units_set['max']\n",
        "  x_sample['dropout'] = np.random.randint(dropout_set['min']*100,dropout_set['max']*100, sample_n) / 100\n",
        "  \n",
        "  # select sample and calculate the results\n",
        "  m, std = regressor.predict(x_sample,return_std=True)\n",
        "\n",
        "  acq = [expected_improvement(m[i],std[i],y.max()) for i in range(len(m))]\n",
        "  x_sample = x_sample.iloc[np.argmax(acq),:]\n",
        "  x_sample['hidden_units'] = x_sample['hidden_units'] * hidden_units_set['max']\n",
        "\n",
        "  y_new = f(x_sample)\n",
        "\n",
        "  # append search results\n",
        "  x = x.append(x_sample)\n",
        "  y = np.append(y,y_new)\n"
      ],
      "execution_count": 17,
      "outputs": [
        {
          "output_type": "stream",
          "name": "stdout",
          "text": [
            "157/157 [==============================] - 1s 3ms/step - loss: 0.1022 - accuracy: 0.9703\n",
            "157/157 [==============================] - 1s 3ms/step - loss: 0.0761 - accuracy: 0.9787\n",
            "157/157 [==============================] - 1s 3ms/step - loss: 0.0749 - accuracy: 0.9783\n",
            "157/157 [==============================] - 1s 3ms/step - loss: 0.0616 - accuracy: 0.9831\n",
            "157/157 [==============================] - 1s 3ms/step - loss: 0.0726 - accuracy: 0.9792\n",
            "157/157 [==============================] - 0s 2ms/step - loss: 0.0727 - accuracy: 0.9787\n",
            "157/157 [==============================] - 1s 3ms/step - loss: 0.0729 - accuracy: 0.9785\n",
            "157/157 [==============================] - 1s 3ms/step - loss: 0.0642 - accuracy: 0.9815\n",
            "157/157 [==============================] - 1s 3ms/step - loss: 0.1388 - accuracy: 0.9599\n",
            "157/157 [==============================] - 1s 3ms/step - loss: 0.0681 - accuracy: 0.9808\n",
            "157/157 [==============================] - 0s 1ms/step - loss: 0.1240 - accuracy: 0.9639\n"
          ]
        },
        {
          "output_type": "stream",
          "name": "stderr",
          "text": [
            "/usr/local/lib/python3.7/dist-packages/sklearn/gaussian_process/_gpr.py:362: UserWarning: Predicted variances smaller than 0. Setting those variances to 0.\n",
            "  warnings.warn(\"Predicted variances smaller than 0. \"\n"
          ]
        },
        {
          "output_type": "stream",
          "name": "stdout",
          "text": [
            "157/157 [==============================] - 1s 3ms/step - loss: 0.0731 - accuracy: 0.9810\n",
            "157/157 [==============================] - 1s 3ms/step - loss: 0.1433 - accuracy: 0.9609\n",
            "157/157 [==============================] - 1s 3ms/step - loss: 0.0639 - accuracy: 0.9839\n"
          ]
        },
        {
          "output_type": "stream",
          "name": "stderr",
          "text": [
            "/usr/local/lib/python3.7/dist-packages/sklearn/gaussian_process/_gpr.py:362: UserWarning: Predicted variances smaller than 0. Setting those variances to 0.\n",
            "  warnings.warn(\"Predicted variances smaller than 0. \"\n"
          ]
        },
        {
          "output_type": "stream",
          "name": "stdout",
          "text": [
            "157/157 [==============================] - 0s 2ms/step - loss: 0.0707 - accuracy: 0.9811\n"
          ]
        },
        {
          "output_type": "stream",
          "name": "stderr",
          "text": [
            "/usr/local/lib/python3.7/dist-packages/sklearn/gaussian_process/_gpr.py:362: UserWarning: Predicted variances smaller than 0. Setting those variances to 0.\n",
            "  warnings.warn(\"Predicted variances smaller than 0. \"\n"
          ]
        },
        {
          "output_type": "stream",
          "name": "stdout",
          "text": [
            "157/157 [==============================] - 1s 2ms/step - loss: 0.2509 - accuracy: 0.9322\n"
          ]
        },
        {
          "output_type": "stream",
          "name": "stderr",
          "text": [
            "/usr/local/lib/python3.7/dist-packages/sklearn/gaussian_process/_gpr.py:362: UserWarning: Predicted variances smaller than 0. Setting those variances to 0.\n",
            "  warnings.warn(\"Predicted variances smaller than 0. \"\n"
          ]
        },
        {
          "output_type": "stream",
          "name": "stdout",
          "text": [
            "157/157 [==============================] - 0s 2ms/step - loss: 0.0875 - accuracy: 0.9750\n"
          ]
        },
        {
          "output_type": "stream",
          "name": "stderr",
          "text": [
            "/usr/local/lib/python3.7/dist-packages/sklearn/gaussian_process/_gpr.py:362: UserWarning: Predicted variances smaller than 0. Setting those variances to 0.\n",
            "  warnings.warn(\"Predicted variances smaller than 0. \"\n"
          ]
        },
        {
          "output_type": "stream",
          "name": "stdout",
          "text": [
            "157/157 [==============================] - 1s 3ms/step - loss: 0.0697 - accuracy: 0.9797\n"
          ]
        },
        {
          "output_type": "stream",
          "name": "stderr",
          "text": [
            "/usr/local/lib/python3.7/dist-packages/sklearn/gaussian_process/_gpr.py:362: UserWarning: Predicted variances smaller than 0. Setting those variances to 0.\n",
            "  warnings.warn(\"Predicted variances smaller than 0. \"\n"
          ]
        },
        {
          "output_type": "stream",
          "name": "stdout",
          "text": [
            "157/157 [==============================] - 0s 2ms/step - loss: 0.1076 - accuracy: 0.9695\n"
          ]
        },
        {
          "output_type": "stream",
          "name": "stderr",
          "text": [
            "/usr/local/lib/python3.7/dist-packages/sklearn/gaussian_process/_gpr.py:362: UserWarning: Predicted variances smaller than 0. Setting those variances to 0.\n",
            "  warnings.warn(\"Predicted variances smaller than 0. \"\n"
          ]
        },
        {
          "output_type": "stream",
          "name": "stdout",
          "text": [
            "157/157 [==============================] - 1s 3ms/step - loss: 0.0678 - accuracy: 0.9819\n"
          ]
        },
        {
          "output_type": "stream",
          "name": "stderr",
          "text": [
            "/usr/local/lib/python3.7/dist-packages/sklearn/gaussian_process/_gpr.py:362: UserWarning: Predicted variances smaller than 0. Setting those variances to 0.\n",
            "  warnings.warn(\"Predicted variances smaller than 0. \"\n"
          ]
        },
        {
          "output_type": "stream",
          "name": "stdout",
          "text": [
            "157/157 [==============================] - 0s 2ms/step - loss: 0.0767 - accuracy: 0.9801\n"
          ]
        },
        {
          "output_type": "stream",
          "name": "stderr",
          "text": [
            "/usr/local/lib/python3.7/dist-packages/sklearn/gaussian_process/_gpr.py:362: UserWarning: Predicted variances smaller than 0. Setting those variances to 0.\n",
            "  warnings.warn(\"Predicted variances smaller than 0. \"\n"
          ]
        },
        {
          "output_type": "stream",
          "name": "stdout",
          "text": [
            "157/157 [==============================] - 0s 2ms/step - loss: 0.0696 - accuracy: 0.9787\n"
          ]
        },
        {
          "output_type": "stream",
          "name": "stderr",
          "text": [
            "/usr/local/lib/python3.7/dist-packages/sklearn/gaussian_process/_gpr.py:362: UserWarning: Predicted variances smaller than 0. Setting those variances to 0.\n",
            "  warnings.warn(\"Predicted variances smaller than 0. \"\n"
          ]
        },
        {
          "output_type": "stream",
          "name": "stdout",
          "text": [
            "157/157 [==============================] - 0s 2ms/step - loss: 0.0708 - accuracy: 0.9798\n"
          ]
        },
        {
          "output_type": "stream",
          "name": "stderr",
          "text": [
            "/usr/local/lib/python3.7/dist-packages/sklearn/gaussian_process/_gpr.py:362: UserWarning: Predicted variances smaller than 0. Setting those variances to 0.\n",
            "  warnings.warn(\"Predicted variances smaller than 0. \"\n"
          ]
        },
        {
          "output_type": "stream",
          "name": "stdout",
          "text": [
            "157/157 [==============================] - 1s 3ms/step - loss: 0.0604 - accuracy: 0.9826\n",
            "157/157 [==============================] - 1s 1ms/step - loss: 0.0992 - accuracy: 0.9721\n",
            "157/157 [==============================] - 0s 2ms/step - loss: 0.0599 - accuracy: 0.9820\n"
          ]
        },
        {
          "output_type": "stream",
          "name": "stderr",
          "text": [
            "/usr/local/lib/python3.7/dist-packages/sklearn/gaussian_process/_gpr.py:362: UserWarning: Predicted variances smaller than 0. Setting those variances to 0.\n",
            "  warnings.warn(\"Predicted variances smaller than 0. \"\n"
          ]
        },
        {
          "output_type": "stream",
          "name": "stdout",
          "text": [
            "157/157 [==============================] - 0s 1ms/step - loss: 0.1233 - accuracy: 0.9636\n"
          ]
        },
        {
          "output_type": "stream",
          "name": "stderr",
          "text": [
            "/usr/local/lib/python3.7/dist-packages/sklearn/gaussian_process/_gpr.py:362: UserWarning: Predicted variances smaller than 0. Setting those variances to 0.\n",
            "  warnings.warn(\"Predicted variances smaller than 0. \"\n"
          ]
        },
        {
          "output_type": "stream",
          "name": "stdout",
          "text": [
            "157/157 [==============================] - 1s 2ms/step - loss: 0.0765 - accuracy: 0.9764\n"
          ]
        },
        {
          "output_type": "stream",
          "name": "stderr",
          "text": [
            "/usr/local/lib/python3.7/dist-packages/sklearn/gaussian_process/_gpr.py:362: UserWarning: Predicted variances smaller than 0. Setting those variances to 0.\n",
            "  warnings.warn(\"Predicted variances smaller than 0. \"\n"
          ]
        },
        {
          "output_type": "stream",
          "name": "stdout",
          "text": [
            "157/157 [==============================] - 0s 2ms/step - loss: 0.1278 - accuracy: 0.9634\n"
          ]
        },
        {
          "output_type": "stream",
          "name": "stderr",
          "text": [
            "/usr/local/lib/python3.7/dist-packages/sklearn/gaussian_process/_gpr.py:362: UserWarning: Predicted variances smaller than 0. Setting those variances to 0.\n",
            "  warnings.warn(\"Predicted variances smaller than 0. \"\n"
          ]
        },
        {
          "output_type": "stream",
          "name": "stdout",
          "text": [
            "157/157 [==============================] - 1s 3ms/step - loss: 0.0834 - accuracy: 0.9754\n"
          ]
        }
      ]
    },
    {
      "cell_type": "markdown",
      "metadata": {
        "id": "tOwVLTWbWld6"
      },
      "source": [
        "# 5. Results"
      ]
    },
    {
      "cell_type": "code",
      "metadata": {
        "colab": {
          "base_uri": "https://localhost:8080/"
        },
        "id": "n8ZEz_IWldCx",
        "outputId": "9d71c7c8-5d12-4508-b8d5-a066a38da3e8"
      },
      "source": [
        "df = x.copy()\n",
        "df['test_acc'] = y\n",
        "df.index = range(np.shape(df)[0])\n",
        "print(df)"
      ],
      "execution_count": 20,
      "outputs": [
        {
          "output_type": "stream",
          "name": "stdout",
          "text": [
            "    hidden_units  dropout  test_acc\n",
            "0          110.0     0.59    0.9625\n",
            "1           40.0     0.74    0.8810\n",
            "2           74.0     0.27    0.9751\n",
            "3          126.0     0.20    0.9799\n",
            "4          120.0     0.62    0.9647\n",
            "5          255.0     0.70    0.9703\n",
            "6          241.0     0.31    0.9787\n",
            "7          212.0     0.50    0.9783\n",
            "8          251.0     0.38    0.9831\n",
            "9          187.0     0.41    0.9792\n",
            "10         124.0     0.27    0.9787\n",
            "11         220.0     0.35    0.9785\n",
            "12         190.0     0.22    0.9815\n",
            "13         204.0     0.75    0.9599\n",
            "14         255.0     0.49    0.9808\n",
            "15          48.0     0.31    0.9639\n",
            "16         210.0     0.20    0.9810\n",
            "17         252.0     0.78    0.9609\n",
            "18         247.0     0.32    0.9839\n",
            "19         174.0     0.33    0.9811\n",
            "20         100.0     0.76    0.9322\n",
            "21         200.0     0.57    0.9750\n",
            "22         250.0     0.44    0.9797\n",
            "23         161.0     0.66    0.9695\n",
            "24         247.0     0.25    0.9819\n",
            "25         168.0     0.26    0.9801\n",
            "26         142.0     0.26    0.9787\n",
            "27         132.0     0.26    0.9798\n",
            "28         254.0     0.31    0.9826\n",
            "29          58.0     0.23    0.9721\n",
            "30         248.0     0.39    0.9820\n",
            "31          61.0     0.41    0.9636\n",
            "32         197.0     0.41    0.9764\n",
            "33         147.0     0.68    0.9634\n",
            "34         200.0     0.58    0.9754\n"
          ]
        }
      ]
    },
    {
      "cell_type": "code",
      "metadata": {
        "colab": {
          "base_uri": "https://localhost:8080/",
          "height": 300
        },
        "id": "4E4C9uYGll5A",
        "outputId": "e409bb01-3439-4e55-b598-c47ef4332b5a"
      },
      "source": [
        "df.describe()"
      ],
      "execution_count": 21,
      "outputs": [
        {
          "output_type": "execute_result",
          "data": {
            "text/html": [
              "<div>\n",
              "<style scoped>\n",
              "    .dataframe tbody tr th:only-of-type {\n",
              "        vertical-align: middle;\n",
              "    }\n",
              "\n",
              "    .dataframe tbody tr th {\n",
              "        vertical-align: top;\n",
              "    }\n",
              "\n",
              "    .dataframe thead th {\n",
              "        text-align: right;\n",
              "    }\n",
              "</style>\n",
              "<table border=\"1\" class=\"dataframe\">\n",
              "  <thead>\n",
              "    <tr style=\"text-align: right;\">\n",
              "      <th></th>\n",
              "      <th>hidden_units</th>\n",
              "      <th>dropout</th>\n",
              "      <th>test_acc</th>\n",
              "    </tr>\n",
              "  </thead>\n",
              "  <tbody>\n",
              "    <tr>\n",
              "      <th>count</th>\n",
              "      <td>35.000000</td>\n",
              "      <td>35.000000</td>\n",
              "      <td>35.000000</td>\n",
              "    </tr>\n",
              "    <tr>\n",
              "      <th>mean</th>\n",
              "      <td>174.428571</td>\n",
              "      <td>0.434571</td>\n",
              "      <td>0.971297</td>\n",
              "    </tr>\n",
              "    <tr>\n",
              "      <th>std</th>\n",
              "      <td>67.966378</td>\n",
              "      <td>0.185272</td>\n",
              "      <td>0.018750</td>\n",
              "    </tr>\n",
              "    <tr>\n",
              "      <th>min</th>\n",
              "      <td>40.000000</td>\n",
              "      <td>0.200000</td>\n",
              "      <td>0.881000</td>\n",
              "    </tr>\n",
              "    <tr>\n",
              "      <th>25%</th>\n",
              "      <td>125.000000</td>\n",
              "      <td>0.270000</td>\n",
              "      <td>0.967100</td>\n",
              "    </tr>\n",
              "    <tr>\n",
              "      <th>50%</th>\n",
              "      <td>190.000000</td>\n",
              "      <td>0.390000</td>\n",
              "      <td>0.978500</td>\n",
              "    </tr>\n",
              "    <tr>\n",
              "      <th>75%</th>\n",
              "      <td>244.000000</td>\n",
              "      <td>0.585000</td>\n",
              "      <td>0.980450</td>\n",
              "    </tr>\n",
              "    <tr>\n",
              "      <th>max</th>\n",
              "      <td>255.000000</td>\n",
              "      <td>0.780000</td>\n",
              "      <td>0.983900</td>\n",
              "    </tr>\n",
              "  </tbody>\n",
              "</table>\n",
              "</div>"
            ],
            "text/plain": [
              "       hidden_units    dropout   test_acc\n",
              "count     35.000000  35.000000  35.000000\n",
              "mean     174.428571   0.434571   0.971297\n",
              "std       67.966378   0.185272   0.018750\n",
              "min       40.000000   0.200000   0.881000\n",
              "25%      125.000000   0.270000   0.967100\n",
              "50%      190.000000   0.390000   0.978500\n",
              "75%      244.000000   0.585000   0.980450\n",
              "max      255.000000   0.780000   0.983900"
            ]
          },
          "metadata": {},
          "execution_count": 21
        }
      ]
    },
    {
      "cell_type": "markdown",
      "metadata": {
        "id": "ZgB61zB3ltDS"
      },
      "source": [
        "## Plot accuracy"
      ]
    },
    {
      "cell_type": "code",
      "metadata": {
        "colab": {
          "base_uri": "https://localhost:8080/",
          "height": 283
        },
        "id": "SSIxofl8lshI",
        "outputId": "949c3c71-9353-484d-d7f7-66d68d2e08c0"
      },
      "source": [
        "import matplotlib.pyplot as plt\n",
        "\n",
        "plt.plot(df['test_acc'])"
      ],
      "execution_count": 22,
      "outputs": [
        {
          "output_type": "execute_result",
          "data": {
            "text/plain": [
              "[<matplotlib.lines.Line2D at 0x7f5e10bc4bd0>]"
            ]
          },
          "metadata": {},
          "execution_count": 22
        },
        {
          "output_type": "display_data",
          "data": {
            "image/png": "[encoded data removed]",
            "text/plain": [
              "<Figure size 432x288 with 1 Axes>"
            ]
          },
          "metadata": {
            "needs_background": "light"
          }
        }
      ]
    }
  ]
}