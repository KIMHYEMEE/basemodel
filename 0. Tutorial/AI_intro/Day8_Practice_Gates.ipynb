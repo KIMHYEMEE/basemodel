{
  "nbformat": 4,
  "nbformat_minor": 0,
  "metadata": {
    "colab": {
      "name": "Day8_Practice_Gates.ipynb",
      "provenance": [],
      "authorship_tag": "ABX9TyNHVLgRSmhtvJMP+HQ2iRfa",
      "include_colab_link": true
    },
    "kernelspec": {
      "name": "python3",
      "display_name": "Python 3"
    },
    "language_info": {
      "name": "python"
    }
  },
  "cells": [
    {
      "cell_type": "markdown",
      "metadata": {
        "id": "view-in-github",
        "colab_type": "text"
      },
      "source": [
        "<a href=\"https://colab.research.google.com/github/MIA-khm/basemodel/blob/master/0.%20Tutorial/AI_intro/Day8_Practice_Gates.ipynb\" target=\"_parent\"><img src=\"https://colab.research.google.com/assets/colab-badge.svg\" alt=\"Open In Colab\"/></a>"
      ]
    },
    {
      "cell_type": "markdown",
      "metadata": {
        "id": "ge6bSOK3JaLV"
      },
      "source": [
        "# And gate"
      ]
    },
    {
      "cell_type": "code",
      "metadata": {
        "id": "brim840yeYTd"
      },
      "source": [
        "import numpy as np\n",
        "\n",
        "\n",
        "def AND(x1, x2):\n",
        "    x = np.array([x1, x2])\n",
        "    w = np.array([0.5, 0.5])\n",
        "    b = -0.7\n",
        "    tmp = np.sum(w*x) + b\n",
        "    if tmp <= 0:\n",
        "        return 0\n",
        "    else:\n",
        "        return 1\n",
        "\n",
        "\n"
      ],
      "execution_count": 1,
      "outputs": []
    },
    {
      "cell_type": "code",
      "metadata": {
        "colab": {
          "base_uri": "https://localhost:8080/"
        },
        "id": "iQ-3YtlRO5oC",
        "outputId": "0b41982e-f2df-4774-c19f-afa5dad38185"
      },
      "source": [
        "for xs in [(0, 0), (1, 0), (0, 1), (1, 1)]:\n",
        "    y = AND(xs[0], xs[1])\n",
        "    print(str(xs) + \" -> \" + str(y))"
      ],
      "execution_count": 2,
      "outputs": [
        {
          "output_type": "stream",
          "name": "stdout",
          "text": [
            "(0, 0) -> 0\n",
            "(1, 0) -> 0\n",
            "(0, 1) -> 0\n",
            "(1, 1) -> 1\n"
          ]
        }
      ]
    },
    {
      "cell_type": "markdown",
      "metadata": {
        "id": "aZHs2WwQJd8j"
      },
      "source": [
        "# OR gate"
      ]
    },
    {
      "cell_type": "code",
      "metadata": {
        "id": "5s1BYoMFKLB4"
      },
      "source": [
        "import numpy as np\n",
        "\n",
        "\n",
        "def OR(x1, x2):\n",
        "    x = np.array([x1, x2])\n",
        "    w = np.array([0.5, 0.5])\n",
        "    b = -0.2\n",
        "    tmp = np.sum(w*x) + b\n",
        "    if tmp <= 0:\n",
        "        return 0\n",
        "    else:\n",
        "        return 1"
      ],
      "execution_count": 3,
      "outputs": []
    },
    {
      "cell_type": "code",
      "metadata": {
        "colab": {
          "base_uri": "https://localhost:8080/"
        },
        "id": "3Gp2N93RO-uS",
        "outputId": "74f9140c-8bc3-4621-c703-5008dc4b3ea5"
      },
      "source": [
        "for xs in [(0, 0), (1, 0), (0, 1), (1, 1)]:\n",
        "    y = OR(xs[0], xs[1])\n",
        "    print(str(xs) + \" -> \" + str(y))"
      ],
      "execution_count": 4,
      "outputs": [
        {
          "output_type": "stream",
          "name": "stdout",
          "text": [
            "(0, 0) -> 0\n",
            "(1, 0) -> 1\n",
            "(0, 1) -> 1\n",
            "(1, 1) -> 1\n"
          ]
        }
      ]
    },
    {
      "cell_type": "markdown",
      "metadata": {
        "id": "oGwQvheCJjmm"
      },
      "source": [
        "# NAND gate"
      ]
    },
    {
      "cell_type": "code",
      "metadata": {
        "id": "Sx7Tqi-4PIWc"
      },
      "source": [
        "def NAND(x1, x2):\n",
        "    x = np.array([x1, x2])\n",
        "    w = np.array([-0.5, -0.5])\n",
        "    b = 0.7\n",
        "    tmp = np.sum(w*x) + b\n",
        "    if tmp <= 0:\n",
        "        return 0\n",
        "    else:\n",
        "        return 1"
      ],
      "execution_count": 5,
      "outputs": []
    },
    {
      "cell_type": "code",
      "metadata": {
        "colab": {
          "base_uri": "https://localhost:8080/"
        },
        "id": "OknwGzw0PfHJ",
        "outputId": "9703607a-a423-4e35-99e4-a00ec3654385"
      },
      "source": [
        "for xs in [(0, 0), (1, 0), (0, 1), (1, 1)]:\n",
        "    y = NAND(xs[0], xs[1])\n",
        "    print(str(xs) + \" -> \" + str(y))"
      ],
      "execution_count": 6,
      "outputs": [
        {
          "output_type": "stream",
          "name": "stdout",
          "text": [
            "(0, 0) -> 1\n",
            "(1, 0) -> 1\n",
            "(0, 1) -> 1\n",
            "(1, 1) -> 0\n"
          ]
        }
      ]
    },
    {
      "cell_type": "markdown",
      "metadata": {
        "id": "U7rYLJn4JhGR"
      },
      "source": [
        "# XOR Gate"
      ]
    },
    {
      "cell_type": "code",
      "metadata": {
        "id": "gWh407nsJi7e"
      },
      "source": [
        "def XOR(x1, x2):\n",
        "    s1 = NAND(x1, x2)\n",
        "    s2 = OR(x1, x2)\n",
        "    y = AND(s1, s2)\n",
        "    return y"
      ],
      "execution_count": 7,
      "outputs": []
    },
    {
      "cell_type": "code",
      "metadata": {
        "colab": {
          "base_uri": "https://localhost:8080/"
        },
        "id": "T2Q90xHlPGEm",
        "outputId": "0782f3f5-b52b-4d81-e899-7346aee00fc8"
      },
      "source": [
        "for xs in [(0, 0), (1, 0), (0, 1), (1, 1)]:\n",
        "    y = XOR(xs[0], xs[1])\n",
        "    print(str(xs) + \" -> \" + str(y))"
      ],
      "execution_count": 8,
      "outputs": [
        {
          "output_type": "stream",
          "name": "stdout",
          "text": [
            "(0, 0) -> 0\n",
            "(1, 0) -> 1\n",
            "(0, 1) -> 1\n",
            "(1, 1) -> 0\n"
          ]
        }
      ]
    }
  ]
}