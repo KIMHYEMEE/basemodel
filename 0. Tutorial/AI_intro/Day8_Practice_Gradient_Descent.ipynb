{
  "nbformat": 4,
  "nbformat_minor": 0,
  "metadata": {
    "colab": {
      "name": "Day8_Practice_Gradient Descent.ipynb",
      "provenance": [],
      "authorship_tag": "ABX9TyNL+SkvIdoZLBEzN0mLKoAF",
      "include_colab_link": true
    },
    "kernelspec": {
      "name": "python3",
      "display_name": "Python 3"
    },
    "language_info": {
      "name": "python"
    }
  },
  "cells": [
    {
      "cell_type": "markdown",
      "metadata": {
        "id": "view-in-github",
        "colab_type": "text"
      },
      "source": [
        "<a href=\"https://colab.research.google.com/github/MIA-khm/basemodel/blob/master/0.%20Tutorial/AI_intro/Day8_Practice_Gradient_Descent.ipynb\" target=\"_parent\"><img src=\"https://colab.research.google.com/assets/colab-badge.svg\" alt=\"Open In Colab\"/></a>"
      ]
    },
    {
      "cell_type": "code",
      "metadata": {
        "id": "VoQsfIPvteYz"
      },
      "source": [
        "import numpy as np"
      ],
      "execution_count": 1,
      "outputs": []
    },
    {
      "cell_type": "code",
      "metadata": {
        "id": "YCzRK66TeP2I"
      },
      "source": [
        "def numerical_gradient(f,x):\n",
        "  h = 1e-4\n",
        "  grad = np.zeros_like(x) # x와 형상이 같은 배열을 생성\n",
        "\n",
        "  for idx in range(x.size):\n",
        "    tmp_val = x[idx]\n",
        "    # f(x+h) 계산\n",
        "    x[idx] = tmp_val + h\n",
        "    fxh1 = f(x)\n",
        "\n",
        "    # f(x-h) 계산\n",
        "    x[idx] = tmp_val - h\n",
        "    fxh2 = f(x)\n",
        "\n",
        "    grad[idx] = (fxh1 - fxh2) / (2*h)\n",
        "    x[idx] = tmp_val # 값 복원\n",
        "\n",
        "  return grad"
      ],
      "execution_count": 2,
      "outputs": []
    },
    {
      "cell_type": "code",
      "metadata": {
        "id": "qGxF8y3WvG_9"
      },
      "source": [
        "def function(x):\n",
        "  return x[0]**2 + x[1]**2"
      ],
      "execution_count": 3,
      "outputs": []
    },
    {
      "cell_type": "code",
      "metadata": {
        "colab": {
          "base_uri": "https://localhost:8080/"
        },
        "id": "-wl2_EXzvQDu",
        "outputId": "2a8672cd-d292-4625-ca8b-6eb0901c066a"
      },
      "source": [
        "numerical_gradient(function, np.array([3., 4.])) # 값을 int로 입력하면, 다른 값 나옴"
      ],
      "execution_count": 20,
      "outputs": [
        {
          "output_type": "execute_result",
          "data": {
            "text/plain": [
              "array([6., 8.])"
            ]
          },
          "metadata": {},
          "execution_count": 20
        }
      ]
    },
    {
      "cell_type": "code",
      "metadata": {
        "colab": {
          "base_uri": "https://localhost:8080/"
        },
        "id": "T3Rk_h_wwlnd",
        "outputId": "5f09468e-f916-425c-a9b5-346d19a0711e"
      },
      "source": [
        "numerical_gradient(function, np.array([0., 2.]))"
      ],
      "execution_count": 21,
      "outputs": [
        {
          "output_type": "execute_result",
          "data": {
            "text/plain": [
              "array([0., 4.])"
            ]
          },
          "metadata": {},
          "execution_count": 21
        }
      ]
    },
    {
      "cell_type": "code",
      "metadata": {
        "colab": {
          "base_uri": "https://localhost:8080/"
        },
        "id": "TPAPYK92w9cK",
        "outputId": "998cc669-68d0-49a8-b3a6-e06872a517a1"
      },
      "source": [
        "numerical_gradient(function, np.array([3., 0.]))"
      ],
      "execution_count": 22,
      "outputs": [
        {
          "output_type": "execute_result",
          "data": {
            "text/plain": [
              "array([6., 0.])"
            ]
          },
          "metadata": {},
          "execution_count": 22
        }
      ]
    },
    {
      "cell_type": "markdown",
      "metadata": {
        "id": "fsiyZcGIxIeK"
      },
      "source": [
        "## Q. function의 최소값?"
      ]
    },
    {
      "cell_type": "code",
      "metadata": {
        "id": "ZFbRNmwpxRgt"
      },
      "source": [
        "def gradient_descent(f, init_x, lr=0.01, step_num=100):\n",
        "    x = init_x\n",
        "    x_history = []\n",
        "\n",
        "    for i in range(step_num):\n",
        "        x_history.append( x.copy() )\n",
        "\n",
        "        grad = numerical_gradient(f, x)\n",
        "        x -= lr * grad\n",
        "\n",
        "    return x, np.array(x_history)"
      ],
      "execution_count": 24,
      "outputs": []
    },
    {
      "cell_type": "code",
      "metadata": {
        "id": "9uwHv4BHw-r1"
      },
      "source": [
        "init_x = np.array([-3., 4.])"
      ],
      "execution_count": 25,
      "outputs": []
    },
    {
      "cell_type": "code",
      "metadata": {
        "id": "jnk6wE5ayFs1"
      },
      "source": [
        "rlt, history = gradient_descent(function, init_x)"
      ],
      "execution_count": 28,
      "outputs": []
    },
    {
      "cell_type": "code",
      "metadata": {
        "colab": {
          "base_uri": "https://localhost:8080/"
        },
        "id": "XxwvUIQNyNNN",
        "outputId": "0075a07c-f6e0-48fc-8a74-983d5389fc9e"
      },
      "source": [
        "print(rlt) #두 값 모두 0에 가까운 값이 나오는 것이 맞음"
      ],
      "execution_count": 29,
      "outputs": [
        {
          "output_type": "stream",
          "name": "stdout",
          "text": [
            "[-0.00699752  0.00933002]\n"
          ]
        }
      ]
    }
  ]
}