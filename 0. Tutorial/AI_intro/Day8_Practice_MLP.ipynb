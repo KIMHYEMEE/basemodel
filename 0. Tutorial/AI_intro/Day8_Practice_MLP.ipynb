{
  "nbformat": 4,
  "nbformat_minor": 0,
  "metadata": {
    "colab": {
      "name": "Day8_Practice_MLP.ipynb",
      "provenance": [],
      "collapsed_sections": [],
      "authorship_tag": "ABX9TyMFLDaFe4Wm3ewBIdDPJSDe",
      "include_colab_link": true
    },
    "kernelspec": {
      "name": "python3",
      "display_name": "Python 3"
    },
    "language_info": {
      "name": "python"
    }
  },
  "cells": [
    {
      "cell_type": "markdown",
      "metadata": {
        "id": "view-in-github",
        "colab_type": "text"
      },
      "source": [
        "<a href=\"https://colab.research.google.com/github/MIA-khm/basemodel/blob/master/0.%20Tutorial/AI_intro/Day8_Practice_MLP.ipynb\" target=\"_parent\"><img src=\"https://colab.research.google.com/assets/colab-badge.svg\" alt=\"Open In Colab\"/></a>"
      ]
    },
    {
      "cell_type": "markdown",
      "metadata": {
        "id": "vD4gfURR4Qva"
      },
      "source": [
        "# function"
      ]
    },
    {
      "cell_type": "code",
      "metadata": {
        "colab": {
          "base_uri": "https://localhost:8080/",
          "height": 179
        },
        "id": "E7J8S0Ct4QhO",
        "outputId": "fa3e1b16-5b4d-4cd4-d3f7-e657dbc0da57"
      },
      "source": [
        "\"\"\"\n",
        "import sys, os\n",
        "import numpy as np\n",
        "\n",
        "def numerical_gradient(f,x):\n",
        "  h = 1e-4\n",
        "  grad = np.zeros_like(x) # x와 형상이 같은 배열을 생성\n",
        "\n",
        "  for idx in range(x.size):\n",
        "    tmp_val = x[idx]\n",
        "    # f(x+h) 계산\n",
        "    x[idx] = tmp_val + h\n",
        "    fxh1 = f(x)\n",
        "\n",
        "    # f(x-h) 계산\n",
        "    x[idx] = tmp_val - h\n",
        "    fxh2 = f(x)\n",
        "\n",
        "    grad[idx] = (fxh1 - fxh2) / (2*h)\n",
        "    x[idx] = tmp_val # 값 복원\n",
        "\n",
        "  return grad\n",
        "\n",
        "def sigmoid(x):\n",
        "  return 1 / (1 + np.exp(-x)) \n",
        "\n",
        "def softmax(x):\n",
        "    if x.ndim == 2:\n",
        "        x = x.T\n",
        "        x = x - np.max(x, axis=0)\n",
        "        y = np.exp(x) / np.sum(np.exp(x), axis=0)\n",
        "        return y.T \n",
        "\n",
        "    x = x - np.max(x) # 오버플로 대책\n",
        "    return np.exp(x) / np.sum(np.exp(x))\n",
        "\n",
        "\n",
        "def cross_entropy_error(y, t):\n",
        "    if y.ndim == 1:\n",
        "        t = t.reshape(1, t.size)\n",
        "        y = y.reshape(1, y.size)\n",
        "        \n",
        "    # 훈련 데이터가 원-핫 벡터라면 정답 레이블의 인덱스로 반환\n",
        "    if t.size == y.size:\n",
        "        t = t.argmax(axis=1)\n",
        "             \n",
        "    batch_size = y.shape[0]\n",
        "    return -np.sum(np.log(y[np.arange(batch_size), t] + 1e-7)) / batch_size\n",
        "\n",
        "def sigmoid_grad(x):\n",
        "    return (1.0 - sigmoid(x)) * sigmoid(x)\n",
        "\"\"\""
      ],
      "execution_count": 1,
      "outputs": [
        {
          "output_type": "execute_result",
          "data": {
            "application/vnd.google.colaboratory.intrinsic+json": {
              "type": "string"
            },
            "text/plain": [
              "'\\nimport sys, os\\nimport numpy as np\\n\\ndef numerical_gradient(f,x):\\n  h = 1e-4\\n  grad = np.zeros_like(x) # x와 형상이 같은 배열을 생성\\n\\n  for idx in range(x.size):\\n    tmp_val = x[idx]\\n    # f(x+h) 계산\\n    x[idx] = tmp_val + h\\n    fxh1 = f(x)\\n\\n    # f(x-h) 계산\\n    x[idx] = tmp_val - h\\n    fxh2 = f(x)\\n\\n    grad[idx] = (fxh1 - fxh2) / (2*h)\\n    x[idx] = tmp_val # 값 복원\\n\\n  return grad\\n\\ndef sigmoid(x):\\n  return 1 / (1 + np.exp(-x)) \\n\\ndef softmax(x):\\n    if x.ndim == 2:\\n        x = x.T\\n        x = x - np.max(x, axis=0)\\n        y = np.exp(x) / np.sum(np.exp(x), axis=0)\\n        return y.T \\n\\n    x = x - np.max(x) # 오버플로 대책\\n    return np.exp(x) / np.sum(np.exp(x))\\n\\n\\ndef cross_entropy_error(y, t):\\n    if y.ndim == 1:\\n        t = t.reshape(1, t.size)\\n        y = y.reshape(1, y.size)\\n        \\n    # 훈련 데이터가 원-핫 벡터라면 정답 레이블의 인덱스로 반환\\n    if t.size == y.size:\\n        t = t.argmax(axis=1)\\n             \\n    batch_size = y.shape[0]\\n    return -np.sum(np.log(y[np.arange(batch_size), t] + 1e-7)) / batch_size\\n\\ndef sigmoid_grad(x):\\n    return (1.0 - sigmoid(x)) * sigmoid(x)\\n'"
            ]
          },
          "metadata": {},
          "execution_count": 1
        }
      ]
    },
    {
      "cell_type": "markdown",
      "metadata": {
        "id": "zahcKD5z4Kez"
      },
      "source": [
        "# twolayernet"
      ]
    },
    {
      "cell_type": "code",
      "metadata": {
        "colab": {
          "base_uri": "https://localhost:8080/",
          "height": 179
        },
        "id": "B3ucUww14HW4",
        "outputId": "309a5b65-1a75-437c-b6f0-9c6c0d3735bc"
      },
      "source": [
        "\"\"\"\n",
        "from function import *\n",
        "\n",
        "class TwoLayerNet:\n",
        "\n",
        "    def __init__(self, input_size, hidden_size, output_size, weight_init_std=0.01):\n",
        "        # 가중치 초기화\n",
        "        self.params = {}\n",
        "        self.params['W1'] = weight_init_std * np.random.randn(input_size, hidden_size)\n",
        "        self.params['b1'] = np.zeros(hidden_size)\n",
        "        self.params['W2'] = weight_init_std * np.random.randn(hidden_size, output_size)\n",
        "        self.params['b2'] = np.zeros(output_size)\n",
        "\n",
        "    def predict(self, x):\n",
        "        W1, W2 = self.params['W1'], self.params['W2']\n",
        "        b1, b2 = self.params['b1'], self.params['b2']\n",
        "    \n",
        "        a1 = np.dot(x, W1) + b1\n",
        "        z1 = sigmoid(a1)\n",
        "        a2 = np.dot(z1, W2) + b2\n",
        "        y = softmax(a2)\n",
        "        \n",
        "        return y\n",
        "        \n",
        "    # x : 입력 데이터, t : 정답 레이블\n",
        "    def loss(self, x, t):\n",
        "        y = self.predict(x)\n",
        "        \n",
        "        return cross_entropy_error(y, t)\n",
        "    \n",
        "    def accuracy(self, x, t):\n",
        "        y = self.predict(x)\n",
        "        y = np.argmax(y, axis=1)\n",
        "        t = np.argmax(t, axis=1)\n",
        "        \n",
        "        accuracy = np.sum(y == t) / float(x.shape[0])\n",
        "        return accuracy\n",
        "        \n",
        "    # x : 입력 데이터, t : 정답 레이블\n",
        "    def numerical_gradient(self, x, t):\n",
        "        loss_W = lambda W: self.loss(x, t)\n",
        "        \n",
        "        grads = {}\n",
        "        grads['W1'] = numerical_gradient(loss_W, self.params['W1'])\n",
        "        grads['b1'] = numerical_gradient(loss_W, self.params['b1'])\n",
        "        grads['W2'] = numerical_gradient(loss_W, self.params['W2'])\n",
        "        grads['b2'] = numerical_gradient(loss_W, self.params['b2'])\n",
        "        \n",
        "        return grads\n",
        "        \n",
        "    def gradient(self, x, t):\n",
        "        W1, W2 = self.params['W1'], self.params['W2']\n",
        "        b1, b2 = self.params['b1'], self.params['b2']\n",
        "        grads = {}\n",
        "        \n",
        "        batch_num = x.shape[0]\n",
        "        \n",
        "        # forward\n",
        "        a1 = np.dot(x, W1) + b1\n",
        "        z1 = sigmoid(a1)\n",
        "        a2 = np.dot(z1, W2) + b2\n",
        "        y = softmax(a2)\n",
        "        \n",
        "        # backward\n",
        "        dy = (y - t) / batch_num\n",
        "        grads['W2'] = np.dot(z1.T, dy)\n",
        "        grads['b2'] = np.sum(dy, axis=0)\n",
        "        \n",
        "        da1 = np.dot(dy, W2.T)\n",
        "        dz1 = sigmoid_grad(a1) * da1\n",
        "        grads['W1'] = np.dot(x.T, dz1)\n",
        "        grads['b1'] = np.sum(dz1, axis=0)\n",
        "\n",
        "        return grads\n",
        "\"\"\""
      ],
      "execution_count": 2,
      "outputs": [
        {
          "output_type": "execute_result",
          "data": {
            "application/vnd.google.colaboratory.intrinsic+json": {
              "type": "string"
            },
            "text/plain": [
              "\"\\nfrom function import *\\n\\nclass TwoLayerNet:\\n\\n    def __init__(self, input_size, hidden_size, output_size, weight_init_std=0.01):\\n        # 가중치 초기화\\n        self.params = {}\\n        self.params['W1'] = weight_init_std * np.random.randn(input_size, hidden_size)\\n        self.params['b1'] = np.zeros(hidden_size)\\n        self.params['W2'] = weight_init_std * np.random.randn(hidden_size, output_size)\\n        self.params['b2'] = np.zeros(output_size)\\n\\n    def predict(self, x):\\n        W1, W2 = self.params['W1'], self.params['W2']\\n        b1, b2 = self.params['b1'], self.params['b2']\\n    \\n        a1 = np.dot(x, W1) + b1\\n        z1 = sigmoid(a1)\\n        a2 = np.dot(z1, W2) + b2\\n        y = softmax(a2)\\n        \\n        return y\\n        \\n    # x : 입력 데이터, t : 정답 레이블\\n    def loss(self, x, t):\\n        y = self.predict(x)\\n        \\n        return cross_entropy_error(y, t)\\n    \\n    def accuracy(self, x, t):\\n        y = self.predict(x)\\n        y = np.argmax(y, axis=1)\\n        t = np.argmax(t, axis=1)\\n        \\n        accuracy = np.sum(y == t) / float(x.shape[0])\\n        return accuracy\\n        \\n    # x : 입력 데이터, t : 정답 레이블\\n    def numerical_gradient(self, x, t):\\n        loss_W = lambda W: self.loss(x, t)\\n        \\n        grads = {}\\n        grads['W1'] = numerical_gradient(loss_W, self.params['W1'])\\n        grads['b1'] = numerical_gradient(loss_W, self.params['b1'])\\n        grads['W2'] = numerical_gradient(loss_W, self.params['W2'])\\n        grads['b2'] = numerical_gradient(loss_W, self.params['b2'])\\n        \\n        return grads\\n        \\n    def gradient(self, x, t):\\n        W1, W2 = self.params['W1'], self.params['W2']\\n        b1, b2 = self.params['b1'], self.params['b2']\\n        grads = {}\\n        \\n        batch_num = x.shape[0]\\n        \\n        # forward\\n        a1 = np.dot(x, W1) + b1\\n        z1 = sigmoid(a1)\\n        a2 = np.dot(z1, W2) + b2\\n        y = softmax(a2)\\n        \\n        # backward\\n        dy = (y - t) / batch_num\\n        grads['W2'] = np.dot(z1.T, dy)\\n        grads['b2'] = np.sum(dy, axis=0)\\n        \\n        da1 = np.dot(dy, W2.T)\\n        dz1 = sigmoid_grad(a1) * da1\\n        grads['W1'] = np.dot(x.T, dz1)\\n        grads['b1'] = np.sum(dz1, axis=0)\\n\\n        return grads\\n\""
            ]
          },
          "metadata": {},
          "execution_count": 2
        }
      ]
    },
    {
      "cell_type": "markdown",
      "metadata": {
        "id": "3FQ_IbCCwp4a"
      },
      "source": [
        "# Training"
      ]
    },
    {
      "cell_type": "code",
      "metadata": {
        "id": "yPZkeaHZ5jq_"
      },
      "source": [
        "from keras.datasets import mnist\n",
        "from twolayernet import TwoLayerNet\n",
        "import matplotlib.pyplot as plt\n",
        "import numpy as np\n",
        "from tensorflow.keras.utils import to_categorical"
      ],
      "execution_count": 3,
      "outputs": []
    },
    {
      "cell_type": "code",
      "metadata": {
        "id": "NzztjqAV5wQ1"
      },
      "source": [
        "(x_train, t_train), (x_test, t_test) = mnist.load_data()"
      ],
      "execution_count": 4,
      "outputs": []
    },
    {
      "cell_type": "code",
      "metadata": {
        "id": "h_BY6cU680i4"
      },
      "source": [
        "t_train = to_categorical(t_train)\n",
        "t_test = to_categorical(t_test)"
      ],
      "execution_count": 5,
      "outputs": []
    },
    {
      "cell_type": "code",
      "metadata": {
        "id": "2OaParkK326c"
      },
      "source": [
        "network = TwoLayerNet(input_size = 784, hidden_size = 50, output_size=10)"
      ],
      "execution_count": 6,
      "outputs": []
    },
    {
      "cell_type": "code",
      "metadata": {
        "id": "5rQA6efW4Y0e"
      },
      "source": [
        "# 하이퍼파라미터\n",
        "iters_num = 10000  # 반복 횟수를 적절히 설정한다.\n",
        "train_size = x_train.shape[0]\n",
        "batch_size = 100   # 미니배치 크기\n",
        "learning_rate = 0.1"
      ],
      "execution_count": 7,
      "outputs": []
    },
    {
      "cell_type": "code",
      "metadata": {
        "id": "CeJpoudZ5qS1"
      },
      "source": [
        "input_size = x_train.shape[1] * x_train.shape[2]\n",
        "x_train = np.reshape(x_train, [-1, input_size])\n",
        "x_test = np.reshape(x_test, [-1, input_size])"
      ],
      "execution_count": 8,
      "outputs": []
    },
    {
      "cell_type": "code",
      "metadata": {
        "colab": {
          "base_uri": "https://localhost:8080/"
        },
        "id": "4YyNXFEw4bjR",
        "outputId": "991a3a8a-1378-4f75-929d-1a4f7ef8c1ab"
      },
      "source": [
        "train_loss_list = []\n",
        "train_acc_list = []\n",
        "test_acc_list = []\n",
        "\n",
        "# 1에폭당 반복 수\n",
        "iter_per_epoch = max(train_size / batch_size, 1)\n",
        "\n",
        "for i in range(iters_num):\n",
        "    # 미니배치 획득\n",
        "    batch_mask = np.random.choice(train_size, batch_size)\n",
        "    x_batch = x_train[batch_mask]\n",
        "    t_batch = t_train[batch_mask]\n",
        "    \n",
        "    # 기울기 계산\n",
        "    #grad = network.numerical_gradient(x_batch, t_batch)\n",
        "    grad = network.gradient(x_batch, t_batch)\n",
        "    \n",
        "    # 매개변수 갱신\n",
        "    for key in ('W1', 'b1', 'W2', 'b2'):\n",
        "        network.params[key] -= learning_rate * grad[key]\n",
        "    \n",
        "    # 학습 경과 기록\n",
        "    loss = network.loss(x_batch, t_batch)\n",
        "    train_loss_list.append(loss)\n",
        "    \n",
        "    # 1에폭당 정확도 계산\n",
        "    if i % iter_per_epoch == 0:\n",
        "        train_acc = network.accuracy(x_train, t_train)\n",
        "        test_acc = network.accuracy(x_test, t_test)\n",
        "        train_acc_list.append(train_acc)\n",
        "        test_acc_list.append(test_acc)\n",
        "        print(\"train acc, test acc | \" + str(train_acc) + \", \" + str(test_acc))"
      ],
      "execution_count": 9,
      "outputs": [
        {
          "output_type": "stream",
          "name": "stdout",
          "text": [
            "train acc, test acc | 0.1178, 0.1183\n"
          ]
        },
        {
          "output_type": "stream",
          "name": "stderr",
          "text": [
            "/content/function.py:24: RuntimeWarning: overflow encountered in exp\n",
            "  return 1 / (1 + np.exp(-x))\n"
          ]
        },
        {
          "output_type": "stream",
          "name": "stdout",
          "text": [
            "train acc, test acc | 0.8603833333333334, 0.8643\n",
            "train acc, test acc | 0.8647333333333334, 0.8659\n",
            "train acc, test acc | 0.86185, 0.8676\n",
            "train acc, test acc | 0.8555166666666667, 0.8591\n",
            "train acc, test acc | 0.8752, 0.8814\n",
            "train acc, test acc | 0.8603833333333334, 0.8647\n",
            "train acc, test acc | 0.87295, 0.8741\n",
            "train acc, test acc | 0.8519666666666666, 0.8558\n",
            "train acc, test acc | 0.8560333333333333, 0.8591\n",
            "train acc, test acc | 0.87785, 0.8784\n",
            "train acc, test acc | 0.8587, 0.8617\n",
            "train acc, test acc | 0.8544, 0.8543\n",
            "train acc, test acc | 0.85145, 0.8535\n",
            "train acc, test acc | 0.87665, 0.8809\n",
            "train acc, test acc | 0.8647666666666667, 0.8637\n",
            "train acc, test acc | 0.8643166666666666, 0.8666\n"
          ]
        }
      ]
    },
    {
      "cell_type": "code",
      "metadata": {
        "colab": {
          "base_uri": "https://localhost:8080/",
          "height": 283
        },
        "id": "yr0sR_Ui9R0z",
        "outputId": "4caad6df-b281-4f96-ae85-926d079b32ee"
      },
      "source": [
        "# 그래프 그리기\n",
        "markers = {'train': 'o', 'test': 's'}\n",
        "x = np.arange(len(train_acc_list))\n",
        "plt.plot(x, train_acc_list, label='train acc')\n",
        "plt.plot(x, test_acc_list, label='test acc', linestyle='--')\n",
        "plt.xlabel(\"epochs\")\n",
        "plt.ylabel(\"accuracy\")\n",
        "plt.ylim(0, 1.0)\n",
        "plt.legend(loc='lower right')\n",
        "plt.show()"
      ],
      "execution_count": 10,
      "outputs": [
        {
          "output_type": "display_data",
          "data": {
            "image/png": "[encoded data removed]",
            "text/plain": [
              "<Figure size 432x288 with 1 Axes>"
            ]
          },
          "metadata": {
            "needs_background": "light"
          }
        }
      ]
    }
  ]
}