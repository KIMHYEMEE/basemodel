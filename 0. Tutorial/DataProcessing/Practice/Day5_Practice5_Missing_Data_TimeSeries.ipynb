{
  "nbformat": 4,
  "nbformat_minor": 0,
  "metadata": {
    "colab": {
      "name": "Day5_Practice5_Missing_Data_TimeSeries.ipynb",
      "provenance": [],
      "authorship_tag": "ABX9TyPK+ILhAlgmgDKuKZra904c",
      "include_colab_link": true
    },
    "kernelspec": {
      "name": "python3",
      "display_name": "Python 3"
    },
    "language_info": {
      "name": "python"
    }
  },
  "cells": [
    {
      "cell_type": "markdown",
      "metadata": {
        "id": "view-in-github",
        "colab_type": "text"
      },
      "source": [
        "<a href=\"https://colab.research.google.com/github/MIA-khm/basemodel/blob/master/0.%20Tutorial/DataProcessing/Practice/Day5_Practice5_Missing_Data_TimeSeries.ipynb\" target=\"_parent\"><img src=\"https://colab.research.google.com/assets/colab-badge.svg\" alt=\"Open In Colab\"/></a>"
      ]
    },
    {
      "cell_type": "markdown",
      "metadata": {
        "id": "zAXh1hR63noT"
      },
      "source": [
        "# 1. Load Data"
      ]
    },
    {
      "cell_type": "code",
      "metadata": {
        "colab": {
          "base_uri": "https://localhost:8080/",
          "height": 419
        },
        "id": "zLbZ-lVu6m4-",
        "outputId": "36e0ce3c-9072-4735-8b8c-b1e51167614d"
      },
      "source": [
        "import pandas as pd\n",
        "\n",
        "df = pd.read_csv('https://raw.githubusercontent.com/selva86/datasets/master/a10.csv', parse_dates=['date'])\n",
        "df"
      ],
      "execution_count": null,
      "outputs": [
        {
          "output_type": "execute_result",
          "data": {
            "text/html": [
              "<div>\n",
              "<style scoped>\n",
              "    .dataframe tbody tr th:only-of-type {\n",
              "        vertical-align: middle;\n",
              "    }\n",
              "\n",
              "    .dataframe tbody tr th {\n",
              "        vertical-align: top;\n",
              "    }\n",
              "\n",
              "    .dataframe thead th {\n",
              "        text-align: right;\n",
              "    }\n",
              "</style>\n",
              "<table border=\"1\" class=\"dataframe\">\n",
              "  <thead>\n",
              "    <tr style=\"text-align: right;\">\n",
              "      <th></th>\n",
              "      <th>date</th>\n",
              "      <th>value</th>\n",
              "    </tr>\n",
              "  </thead>\n",
              "  <tbody>\n",
              "    <tr>\n",
              "      <th>0</th>\n",
              "      <td>1991-07-01</td>\n",
              "      <td>3.526591</td>\n",
              "    </tr>\n",
              "    <tr>\n",
              "      <th>1</th>\n",
              "      <td>1991-08-01</td>\n",
              "      <td>3.180891</td>\n",
              "    </tr>\n",
              "    <tr>\n",
              "      <th>2</th>\n",
              "      <td>1991-09-01</td>\n",
              "      <td>3.252221</td>\n",
              "    </tr>\n",
              "    <tr>\n",
              "      <th>3</th>\n",
              "      <td>1991-10-01</td>\n",
              "      <td>3.611003</td>\n",
              "    </tr>\n",
              "    <tr>\n",
              "      <th>4</th>\n",
              "      <td>1991-11-01</td>\n",
              "      <td>3.565869</td>\n",
              "    </tr>\n",
              "    <tr>\n",
              "      <th>...</th>\n",
              "      <td>...</td>\n",
              "      <td>...</td>\n",
              "    </tr>\n",
              "    <tr>\n",
              "      <th>199</th>\n",
              "      <td>2008-02-01</td>\n",
              "      <td>21.654285</td>\n",
              "    </tr>\n",
              "    <tr>\n",
              "      <th>200</th>\n",
              "      <td>2008-03-01</td>\n",
              "      <td>18.264945</td>\n",
              "    </tr>\n",
              "    <tr>\n",
              "      <th>201</th>\n",
              "      <td>2008-04-01</td>\n",
              "      <td>23.107677</td>\n",
              "    </tr>\n",
              "    <tr>\n",
              "      <th>202</th>\n",
              "      <td>2008-05-01</td>\n",
              "      <td>22.912510</td>\n",
              "    </tr>\n",
              "    <tr>\n",
              "      <th>203</th>\n",
              "      <td>2008-06-01</td>\n",
              "      <td>19.431740</td>\n",
              "    </tr>\n",
              "  </tbody>\n",
              "</table>\n",
              "<p>204 rows × 2 columns</p>\n",
              "</div>"
            ],
            "text/plain": [
              "          date      value\n",
              "0   1991-07-01   3.526591\n",
              "1   1991-08-01   3.180891\n",
              "2   1991-09-01   3.252221\n",
              "3   1991-10-01   3.611003\n",
              "4   1991-11-01   3.565869\n",
              "..         ...        ...\n",
              "199 2008-02-01  21.654285\n",
              "200 2008-03-01  18.264945\n",
              "201 2008-04-01  23.107677\n",
              "202 2008-05-01  22.912510\n",
              "203 2008-06-01  19.431740\n",
              "\n",
              "[204 rows x 2 columns]"
            ]
          },
          "metadata": {},
          "execution_count": 2
        }
      ]
    },
    {
      "cell_type": "code",
      "metadata": {
        "colab": {
          "base_uri": "https://localhost:8080/",
          "height": 297
        },
        "id": "tfAH9fwu64IX",
        "outputId": "7505d0e4-2d5b-4bfd-9c9c-f0a2542505a0"
      },
      "source": [
        "df.describe()"
      ],
      "execution_count": null,
      "outputs": [
        {
          "output_type": "execute_result",
          "data": {
            "text/html": [
              "<div>\n",
              "<style scoped>\n",
              "    .dataframe tbody tr th:only-of-type {\n",
              "        vertical-align: middle;\n",
              "    }\n",
              "\n",
              "    .dataframe tbody tr th {\n",
              "        vertical-align: top;\n",
              "    }\n",
              "\n",
              "    .dataframe thead th {\n",
              "        text-align: right;\n",
              "    }\n",
              "</style>\n",
              "<table border=\"1\" class=\"dataframe\">\n",
              "  <thead>\n",
              "    <tr style=\"text-align: right;\">\n",
              "      <th></th>\n",
              "      <th>value</th>\n",
              "    </tr>\n",
              "  </thead>\n",
              "  <tbody>\n",
              "    <tr>\n",
              "      <th>count</th>\n",
              "      <td>204.000000</td>\n",
              "    </tr>\n",
              "    <tr>\n",
              "      <th>mean</th>\n",
              "      <td>10.694430</td>\n",
              "    </tr>\n",
              "    <tr>\n",
              "      <th>std</th>\n",
              "      <td>5.956998</td>\n",
              "    </tr>\n",
              "    <tr>\n",
              "      <th>min</th>\n",
              "      <td>2.814520</td>\n",
              "    </tr>\n",
              "    <tr>\n",
              "      <th>25%</th>\n",
              "      <td>5.844095</td>\n",
              "    </tr>\n",
              "    <tr>\n",
              "      <th>50%</th>\n",
              "      <td>9.319345</td>\n",
              "    </tr>\n",
              "    <tr>\n",
              "      <th>75%</th>\n",
              "      <td>14.289964</td>\n",
              "    </tr>\n",
              "    <tr>\n",
              "      <th>max</th>\n",
              "      <td>29.665356</td>\n",
              "    </tr>\n",
              "  </tbody>\n",
              "</table>\n",
              "</div>"
            ],
            "text/plain": [
              "            value\n",
              "count  204.000000\n",
              "mean    10.694430\n",
              "std      5.956998\n",
              "min      2.814520\n",
              "25%      5.844095\n",
              "50%      9.319345\n",
              "75%     14.289964\n",
              "max     29.665356"
            ]
          },
          "metadata": {},
          "execution_count": 3
        }
      ]
    },
    {
      "cell_type": "markdown",
      "metadata": {
        "id": "DwCcPnZ07B8W"
      },
      "source": [
        "# 2. Remove arbitrary data"
      ]
    },
    {
      "cell_type": "code",
      "metadata": {
        "id": "QorTJmEv7EbX"
      },
      "source": [
        "df_missing = df.copy()"
      ],
      "execution_count": null,
      "outputs": []
    },
    {
      "cell_type": "code",
      "metadata": {
        "id": "wsYkqYwp7Mua"
      },
      "source": [
        "n_del = 30"
      ],
      "execution_count": null,
      "outputs": []
    },
    {
      "cell_type": "code",
      "metadata": {
        "id": "tqsdhV147QGi"
      },
      "source": [
        "import numpy as np\n",
        "\n",
        "np.random.seed(123)"
      ],
      "execution_count": null,
      "outputs": []
    },
    {
      "cell_type": "code",
      "metadata": {
        "id": "lhkrBhDl7ZC1"
      },
      "source": [
        "del_set = np.random.randint(low = 0, high=np.shape(df_missing)[0], size=n_del)"
      ],
      "execution_count": null,
      "outputs": []
    },
    {
      "cell_type": "code",
      "metadata": {
        "colab": {
          "base_uri": "https://localhost:8080/"
        },
        "id": "xWdsvroN7lwx",
        "outputId": "2750ca73-1957-4337-dfe9-de6b938d004a"
      },
      "source": [
        "del_set = np.unique(del_set)\n",
        "del_set"
      ],
      "execution_count": null,
      "outputs": [
        {
          "output_type": "execute_result",
          "data": {
            "text/plain": [
              "array([  2,  17,  32,  39,  47,  49,  55,  57,  66,  68,  73,  78,  83,\n",
              "        84,  96,  98, 106, 109, 111, 113, 123, 126, 153, 164, 174, 195])"
            ]
          },
          "metadata": {},
          "execution_count": 9
        }
      ]
    },
    {
      "cell_type": "code",
      "metadata": {
        "colab": {
          "base_uri": "https://localhost:8080/"
        },
        "id": "YDsp-pf97w1N",
        "outputId": "79e6b932-5827-48d6-e460-b706b1b58738"
      },
      "source": [
        "for i in del_set:\n",
        "  print(i,\"- before:\",df_missing['value'][i])\n",
        "  df_missing['value'][i] = np.nan\n",
        "  print(i,\"- after:\",df_missing['value'][i])"
      ],
      "execution_count": null,
      "outputs": [
        {
          "output_type": "stream",
          "name": "stdout",
          "text": [
            "2 - before: 3.252221\n",
            "2 - after: nan\n",
            "17 - before: 5.81054917\n",
            "17 - after: nan\n",
            "32 - before: 4.39407557\n",
            "32 - after: nan\n",
            "39 - before: 5.3016513\n",
            "39 - after: nan\n",
            "47 - before: 5.17078711\n",
            "47 - after: nan\n",
            "49 - before: 5.85527729\n",
            "49 - after: nan\n",
            "55 - before: 5.06979585\n",
            "55 - after: nan\n",
            "57 - before: 5.59712628\n",
            "57 - after: nan\n",
            "66 - before: 8.52447101\n",
            "66 - after: nan\n",
            "68 - before: 5.71430345\n",
            "68 - after: nan\n",
            "73 - before: 6.70491861\n",
            "73 - after: nan\n",
            "78 - before: 8.79851303\n",
            "78 - after: nan\n",
            "83 - before: 7.38338118\n",
            "83 - after: nan\n",
            "84 - before: 7.81349587\n",
            "84 - after: nan\n",
            "96 - before: 8.71742046\n",
            "96 - after: nan\n",
            "98 - before: 9.17711337\n",
            "98 - after: nan\n",
            "106 - before: 9.3868026\n",
            "106 - after: nan\n",
            "109 - before: 10.64375083\n",
            "109 - after: nan\n",
            "111 - before: 11.7100413\n",
            "111 - after: nan\n",
            "113 - before: 12.07913184\n",
            "113 - after: nan\n",
            "123 - before: 12.65213444\n",
            "123 - after: nan\n",
            "126 - before: 16.30026927\n",
            "126 - after: nan\n",
            "153 - before: 12.88264507\n",
            "153 - after: nan\n",
            "164 - before: 13.402392\n",
            "164 - after: nan\n",
            "174 - before: 23.486694\n",
            "174 - after: nan\n",
            "195 - before: 23.26333992\n",
            "195 - after: nan\n"
          ]
        },
        {
          "output_type": "stream",
          "name": "stderr",
          "text": [
            "/usr/local/lib/python3.7/dist-packages/ipykernel_launcher.py:3: SettingWithCopyWarning: \n",
            "A value is trying to be set on a copy of a slice from a DataFrame\n",
            "\n",
            "See the caveats in the documentation: https://pandas.pydata.org/pandas-docs/stable/user_guide/indexing.html#returning-a-view-versus-a-copy\n",
            "  This is separate from the ipykernel package so we can avoid doing imports until\n"
          ]
        }
      ]
    },
    {
      "cell_type": "code",
      "metadata": {
        "colab": {
          "base_uri": "https://localhost:8080/"
        },
        "id": "Pv5VQCOo8Gb0",
        "outputId": "de80e9eb-600a-46fb-a3b0-a29539b4616a"
      },
      "source": [
        "n_nan = np.isnan(df_missing['value']).sum()\n",
        "print('The number of Nan is ', n_nan)"
      ],
      "execution_count": null,
      "outputs": [
        {
          "output_type": "stream",
          "name": "stdout",
          "text": [
            "The number of Nan is  26\n"
          ]
        }
      ]
    },
    {
      "cell_type": "code",
      "metadata": {
        "colab": {
          "base_uri": "https://localhost:8080/"
        },
        "id": "IJHjRN6d8ZdA",
        "outputId": "eb56a739-516b-417d-f90e-6ec7c1468b51"
      },
      "source": [
        "len(del_set)"
      ],
      "execution_count": null,
      "outputs": [
        {
          "output_type": "execute_result",
          "data": {
            "text/plain": [
              "26"
            ]
          },
          "metadata": {},
          "execution_count": 12
        }
      ]
    },
    {
      "cell_type": "markdown",
      "metadata": {
        "id": "tq9sEjx48dyR"
      },
      "source": [
        "# 3.LOCF: Last Observation Carried Forward"
      ]
    },
    {
      "cell_type": "code",
      "metadata": {
        "id": "PmEUzjt78iDO"
      },
      "source": [
        "df_locf = df_missing.copy()"
      ],
      "execution_count": null,
      "outputs": []
    },
    {
      "cell_type": "code",
      "metadata": {
        "colab": {
          "base_uri": "https://localhost:8080/"
        },
        "id": "DlanOKyP8oVY",
        "outputId": "a87f0e6e-d1da-45ff-d39c-be31302072e2"
      },
      "source": [
        "for i in range(np.shape(df_locf)[0]):\n",
        "  if np.isnan(df_locf['value'][i]):\n",
        "    try:\n",
        "      df_locf['value'][i] = df_locf['value'][i-1]\n",
        "      print('NaN Cell: ',df_locf['value'][i], '-- Previous Cell',df_locf['value'][i-1])\n",
        "    except: #예외규칙: 예외는 'i=0'일 때를 의미\n",
        "      df_locf['value'][i] = 0\n",
        "      print('NaN Cell: ',df_locf['value'][i], '-- No Previous Cell')\n",
        "    "
      ],
      "execution_count": null,
      "outputs": [
        {
          "output_type": "stream",
          "name": "stdout",
          "text": [
            "NaN Cell:  3.180891 -- Previous Cell 3.180891\n",
            "NaN Cell:  4.38653092 -- Previous Cell 4.38653092\n",
            "NaN Cell:  3.84127758 -- Previous Cell 3.84127758\n",
            "NaN Cell:  5.20445484 -- Previous Cell 5.20445484\n",
            "NaN Cell:  5.19475419 -- Previous Cell 5.19475419\n",
            "NaN Cell:  5.25674157 -- Previous Cell 5.25674157\n",
            "NaN Cell:  8.32945212 -- Previous Cell 8.32945212\n",
            "NaN Cell:  5.26255667 -- Previous Cell 5.26255667\n",
            "NaN Cell:  8.60693721 -- Previous Cell 8.60693721\n",
            "NaN Cell:  5.27791837 -- Previous Cell 5.27791837\n",
            "NaN Cell:  7.05083102 -- Previous Cell 7.05083102\n",
            "NaN Cell:  10.09623339 -- Previous Cell 10.09623339\n",
            "NaN Cell:  7.06420058 -- Previous Cell 7.06420058\n",
            "NaN Cell:  7.06420058 -- Previous Cell 7.06420058\n",
            "NaN Cell:  8.16532298 -- Previous Cell 8.16532298\n",
            "NaN Cell:  9.07096378 -- Previous Cell 9.07096378\n",
            "NaN Cell:  8.47400037 -- Previous Cell 8.47400037\n",
            "NaN Cell:  10.8342948 -- Previous Cell 10.8342948\n",
            "NaN Cell:  9.90816186 -- Previous Cell 9.90816186\n",
            "NaN Cell:  11.34015074 -- Previous Cell 11.34015074\n",
            "NaN Cell:  10.64705979 -- Previous Cell 10.64705979\n",
            "NaN Cell:  12.96573509 -- Previous Cell 12.96573509\n",
            "NaN Cell:  12.997900099999999 -- Previous Cell 12.997900099999999\n",
            "NaN Cell:  12.154552 -- Previous Cell 12.154552\n",
            "NaN Cell:  20.031291 -- Previous Cell 20.031291\n",
            "NaN Cell:  22.93035694 -- Previous Cell 22.93035694\n"
          ]
        },
        {
          "output_type": "stream",
          "name": "stderr",
          "text": [
            "/usr/local/lib/python3.7/dist-packages/ipykernel_launcher.py:4: SettingWithCopyWarning: \n",
            "A value is trying to be set on a copy of a slice from a DataFrame\n",
            "\n",
            "See the caveats in the documentation: https://pandas.pydata.org/pandas-docs/stable/user_guide/indexing.html#returning-a-view-versus-a-copy\n",
            "  after removing the cwd from sys.path.\n"
          ]
        }
      ]
    },
    {
      "cell_type": "markdown",
      "metadata": {
        "id": "ZUSxxyyS9oj5"
      },
      "source": [
        "# 4. NOCB: Next Observation Carried Backward"
      ]
    },
    {
      "cell_type": "code",
      "metadata": {
        "id": "9tY1wxwp9jvn"
      },
      "source": [
        ""
      ],
      "execution_count": null,
      "outputs": []
    },
    {
      "cell_type": "code",
      "metadata": {
        "id": "_uBbPXgj91tT"
      },
      "source": [
        ""
      ],
      "execution_count": null,
      "outputs": []
    },
    {
      "cell_type": "markdown",
      "metadata": {
        "id": "2deRNtW392QY"
      },
      "source": [
        "# 5. Linear Interpolation"
      ]
    },
    {
      "cell_type": "code",
      "metadata": {
        "id": "V6QZNpAP98b4"
      },
      "source": [
        "df_linear = df_missing.copy()"
      ],
      "execution_count": null,
      "outputs": []
    },
    {
      "cell_type": "code",
      "metadata": {
        "id": "kSH53vxa9_S7"
      },
      "source": [
        "for i in range(np.shape(df_locf)[0]):\n",
        "  if np.isnan(df_locf['value'][i]):\n",
        "\n",
        "    try: #첫번째와 마지막에 위치하지 않은 i\n",
        "      if (np.isnan(df_locf['value'][i-1])==False) & (np.isnan(df_locf['value'][i+1])==False):\n",
        "        df_locf['value'][i] = (df_locf['value'][i-1] + df_locf['value'][i+1])/2\n",
        "      else: \n",
        "        if np.isnan(df_locf['value'][i-1]):\n",
        "          df_locf['value'][i] = df_locf['value'][i+1]\n",
        "        else: # np.isnan(df_locf['value'][i+1])\n",
        "          df_locf['value'][i] = df_locf['value'][i-1]\n",
        "\n",
        "    except: #첫번째와 마지막에 위치한 i\n",
        "      if i-1 < 0:\n",
        "        df_locf['value'][i] = df_locf['value'][i+1] # 첫번째일 경우\n",
        "      else: # i-1 > 0\n",
        "        df_locf['value'][i] = df_locf['value'][i-1] # 마지막일 경우"
      ],
      "execution_count": null,
      "outputs": []
    },
    {
      "cell_type": "code",
      "metadata": {
        "id": "vmW5jO-QAC00"
      },
      "source": [
        ""
      ],
      "execution_count": null,
      "outputs": []
    }
  ]
}