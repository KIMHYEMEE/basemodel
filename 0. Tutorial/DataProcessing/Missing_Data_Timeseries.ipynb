{
  "nbformat": 4,
  "nbformat_minor": 0,
  "metadata": {
    "colab": {
      "name": "Missing_Data_Timeseries.ipynb",
      "provenance": [],
      "authorship_tag": "ABX9TyPHFCkrPFNKStva4aGfsRmS"
    },
    "kernelspec": {
      "name": "python3",
      "display_name": "Python 3"
    },
    "language_info": {
      "name": "python"
    }
  },
  "cells": [
    {
      "cell_type": "markdown",
      "metadata": {
        "id": "KEJH1oyzCbul"
      },
      "source": [
        "Ref. https://scikit-learn.org/stable/auto_examples/impute/plot_iterative_imputer_variants_comparison.html#sphx-glr-auto-examples-impute-plot-iterative-imputer-variants-comparison-py"
      ]
    },
    {
      "cell_type": "markdown",
      "metadata": {
        "id": "wmR7uOv-vl9t"
      },
      "source": [
        "# 1. Load Data"
      ]
    },
    {
      "cell_type": "code",
      "metadata": {
        "id": "FRuLw88xCLNK"
      },
      "source": [
        "import pandas as pd\n",
        "\n",
        "df = pd.read_csv('https://raw.githubusercontent.com/selva86/datasets/master/a10.csv', parse_dates=['date'])"
      ],
      "execution_count": 1,
      "outputs": []
    },
    {
      "cell_type": "code",
      "metadata": {
        "colab": {
          "base_uri": "https://localhost:8080/",
          "height": 204
        },
        "id": "j-6I5OGFiymW",
        "outputId": "1c08850d-9cc4-4132-f214-23b9d53e4fb5"
      },
      "source": [
        "df.head()"
      ],
      "execution_count": 2,
      "outputs": [
        {
          "output_type": "execute_result",
          "data": {
            "text/html": [
              "<div>\n",
              "<style scoped>\n",
              "    .dataframe tbody tr th:only-of-type {\n",
              "        vertical-align: middle;\n",
              "    }\n",
              "\n",
              "    .dataframe tbody tr th {\n",
              "        vertical-align: top;\n",
              "    }\n",
              "\n",
              "    .dataframe thead th {\n",
              "        text-align: right;\n",
              "    }\n",
              "</style>\n",
              "<table border=\"1\" class=\"dataframe\">\n",
              "  <thead>\n",
              "    <tr style=\"text-align: right;\">\n",
              "      <th></th>\n",
              "      <th>date</th>\n",
              "      <th>value</th>\n",
              "    </tr>\n",
              "  </thead>\n",
              "  <tbody>\n",
              "    <tr>\n",
              "      <th>0</th>\n",
              "      <td>1991-07-01</td>\n",
              "      <td>3.526591</td>\n",
              "    </tr>\n",
              "    <tr>\n",
              "      <th>1</th>\n",
              "      <td>1991-08-01</td>\n",
              "      <td>3.180891</td>\n",
              "    </tr>\n",
              "    <tr>\n",
              "      <th>2</th>\n",
              "      <td>1991-09-01</td>\n",
              "      <td>3.252221</td>\n",
              "    </tr>\n",
              "    <tr>\n",
              "      <th>3</th>\n",
              "      <td>1991-10-01</td>\n",
              "      <td>3.611003</td>\n",
              "    </tr>\n",
              "    <tr>\n",
              "      <th>4</th>\n",
              "      <td>1991-11-01</td>\n",
              "      <td>3.565869</td>\n",
              "    </tr>\n",
              "  </tbody>\n",
              "</table>\n",
              "</div>"
            ],
            "text/plain": [
              "        date     value\n",
              "0 1991-07-01  3.526591\n",
              "1 1991-08-01  3.180891\n",
              "2 1991-09-01  3.252221\n",
              "3 1991-10-01  3.611003\n",
              "4 1991-11-01  3.565869"
            ]
          },
          "metadata": {},
          "execution_count": 2
        }
      ]
    },
    {
      "cell_type": "code",
      "metadata": {
        "colab": {
          "base_uri": "https://localhost:8080/",
          "height": 297
        },
        "id": "VGQ76lr2wHwG",
        "outputId": "079752ae-9471-4f17-9063-b8a9489bdce4"
      },
      "source": [
        "df.describe()"
      ],
      "execution_count": 3,
      "outputs": [
        {
          "output_type": "execute_result",
          "data": {
            "text/html": [
              "<div>\n",
              "<style scoped>\n",
              "    .dataframe tbody tr th:only-of-type {\n",
              "        vertical-align: middle;\n",
              "    }\n",
              "\n",
              "    .dataframe tbody tr th {\n",
              "        vertical-align: top;\n",
              "    }\n",
              "\n",
              "    .dataframe thead th {\n",
              "        text-align: right;\n",
              "    }\n",
              "</style>\n",
              "<table border=\"1\" class=\"dataframe\">\n",
              "  <thead>\n",
              "    <tr style=\"text-align: right;\">\n",
              "      <th></th>\n",
              "      <th>value</th>\n",
              "    </tr>\n",
              "  </thead>\n",
              "  <tbody>\n",
              "    <tr>\n",
              "      <th>count</th>\n",
              "      <td>204.000000</td>\n",
              "    </tr>\n",
              "    <tr>\n",
              "      <th>mean</th>\n",
              "      <td>10.694430</td>\n",
              "    </tr>\n",
              "    <tr>\n",
              "      <th>std</th>\n",
              "      <td>5.956998</td>\n",
              "    </tr>\n",
              "    <tr>\n",
              "      <th>min</th>\n",
              "      <td>2.814520</td>\n",
              "    </tr>\n",
              "    <tr>\n",
              "      <th>25%</th>\n",
              "      <td>5.844095</td>\n",
              "    </tr>\n",
              "    <tr>\n",
              "      <th>50%</th>\n",
              "      <td>9.319345</td>\n",
              "    </tr>\n",
              "    <tr>\n",
              "      <th>75%</th>\n",
              "      <td>14.289964</td>\n",
              "    </tr>\n",
              "    <tr>\n",
              "      <th>max</th>\n",
              "      <td>29.665356</td>\n",
              "    </tr>\n",
              "  </tbody>\n",
              "</table>\n",
              "</div>"
            ],
            "text/plain": [
              "            value\n",
              "count  204.000000\n",
              "mean    10.694430\n",
              "std      5.956998\n",
              "min      2.814520\n",
              "25%      5.844095\n",
              "50%      9.319345\n",
              "75%     14.289964\n",
              "max     29.665356"
            ]
          },
          "metadata": {},
          "execution_count": 3
        }
      ]
    },
    {
      "cell_type": "markdown",
      "metadata": {
        "id": "6opw0vD20T8D"
      },
      "source": [
        "# 2. Remove arbitrary data"
      ]
    },
    {
      "cell_type": "code",
      "metadata": {
        "id": "ywufpLy_0S9u"
      },
      "source": [
        "df_missing = df.copy()"
      ],
      "execution_count": 4,
      "outputs": []
    },
    {
      "cell_type": "code",
      "metadata": {
        "id": "4jGpC4MXlCWj"
      },
      "source": [
        "n_del = 30"
      ],
      "execution_count": 5,
      "outputs": []
    },
    {
      "cell_type": "code",
      "metadata": {
        "id": "8khKOZX_tniK"
      },
      "source": [
        "import numpy as np\n",
        "\n",
        "np.random.seed(123)"
      ],
      "execution_count": 6,
      "outputs": []
    },
    {
      "cell_type": "code",
      "metadata": {
        "colab": {
          "base_uri": "https://localhost:8080/"
        },
        "id": "4Bt_Ug_TwVSu",
        "outputId": "1272b83a-af08-46ac-a85c-7bd681730ec5"
      },
      "source": [
        "del_set = np.unique(np.random.randint(low=0, high=np.shape(df_missing)[0], size=n_del))\n",
        "del_set"
      ],
      "execution_count": 7,
      "outputs": [
        {
          "output_type": "execute_result",
          "data": {
            "text/plain": [
              "array([  2,  17,  32,  39,  47,  49,  55,  57,  66,  68,  73,  78,  83,\n",
              "        84,  96,  98, 106, 109, 111, 113, 123, 126, 153, 164, 174, 195])"
            ]
          },
          "metadata": {},
          "execution_count": 7
        }
      ]
    },
    {
      "cell_type": "code",
      "metadata": {
        "colab": {
          "base_uri": "https://localhost:8080/"
        },
        "id": "lpyvIxiwlkrz",
        "outputId": "a8ec5580-1422-491d-8ddf-c96b9116d9c1"
      },
      "source": [
        "for i in del_set:\n",
        "  print(i,\"-before:\",df_missing['value'][i])\n",
        "  df_missing['value'][i] = np.nan\n",
        "  print(i,\"-after:\",df_missing['value'][i])"
      ],
      "execution_count": 8,
      "outputs": [
        {
          "output_type": "stream",
          "name": "stdout",
          "text": [
            "2 -before: 3.252221\n",
            "2 -after: nan\n",
            "17 -before: 5.81054917\n",
            "17 -after: nan\n",
            "32 -before: 4.39407557\n",
            "32 -after: nan\n",
            "39 -before: 5.3016513\n",
            "39 -after: nan\n",
            "47 -before: 5.17078711\n",
            "47 -after: nan\n",
            "49 -before: 5.85527729\n",
            "49 -after: nan\n",
            "55 -before: 5.06979585\n",
            "55 -after: nan\n",
            "57 -before: 5.59712628\n",
            "57 -after: nan\n",
            "66 -before: 8.52447101\n",
            "66 -after: nan\n",
            "68 -before: 5.71430345\n",
            "68 -after: nan\n",
            "73 -before: 6.70491861\n",
            "73 -after: nan\n",
            "78 -before: 8.79851303\n",
            "78 -after: nan\n",
            "83 -before: 7.38338118\n",
            "83 -after: nan\n",
            "84 -before: 7.81349587\n",
            "84 -after: nan\n",
            "96 -before: 8.71742046\n",
            "96 -after: nan\n",
            "98 -before: 9.17711337\n",
            "98 -after: nan\n",
            "106 -before: 9.3868026\n",
            "106 -after: nan\n",
            "109 -before: 10.64375083\n",
            "109 -after: nan\n",
            "111 -before: 11.7100413\n",
            "111 -after: nan\n",
            "113 -before: 12.07913184\n",
            "113 -after: nan\n",
            "123 -before: 12.65213444\n",
            "123 -after: nan\n",
            "126 -before: 16.30026927\n",
            "126 -after: nan\n",
            "153 -before: 12.88264507\n",
            "153 -after: nan\n",
            "164 -before: 13.402392\n",
            "164 -after: nan\n",
            "174 -before: 23.486694\n",
            "174 -after: nan\n",
            "195 -before: 23.26333992\n",
            "195 -after: nan\n"
          ]
        },
        {
          "output_type": "stream",
          "name": "stderr",
          "text": [
            "/usr/local/lib/python3.7/dist-packages/ipykernel_launcher.py:3: SettingWithCopyWarning: \n",
            "A value is trying to be set on a copy of a slice from a DataFrame\n",
            "\n",
            "See the caveats in the documentation: https://pandas.pydata.org/pandas-docs/stable/user_guide/indexing.html#returning-a-view-versus-a-copy\n",
            "  This is separate from the ipykernel package so we can avoid doing imports until\n"
          ]
        }
      ]
    },
    {
      "cell_type": "code",
      "metadata": {
        "colab": {
          "base_uri": "https://localhost:8080/"
        },
        "id": "fgB3xFu8ndpB",
        "outputId": "c31129cc-2239-407f-9225-28d22fa28668"
      },
      "source": [
        "n_nan = np.isnan(df_missing['value']).sum()\n",
        "print('The number of NaN is', n_nan)"
      ],
      "execution_count": 9,
      "outputs": [
        {
          "output_type": "stream",
          "name": "stdout",
          "text": [
            "The number of NaN is 26\n"
          ]
        }
      ]
    },
    {
      "cell_type": "markdown",
      "metadata": {
        "id": "kKiHNaPEhE6u"
      },
      "source": [
        "# 3. LOCF: Last Observation Carried Forward"
      ]
    },
    {
      "cell_type": "code",
      "metadata": {
        "id": "VO0nY6AphVGQ"
      },
      "source": [
        "df_locf = df_missing.copy()"
      ],
      "execution_count": 10,
      "outputs": []
    },
    {
      "cell_type": "code",
      "metadata": {
        "colab": {
          "base_uri": "https://localhost:8080/"
        },
        "id": "LSCXYg-DmO8e",
        "outputId": "b98cd101-7008-4c6d-adf5-695c33267a84"
      },
      "source": [
        "for i in range(np.shape(df_locf)[0]):\n",
        "  if np.isnan(df_locf['value'][i]):\n",
        "    try:\n",
        "      df_locf['value'][i] = df_locf['value'][i-1]\n",
        "      print('NaN cell: ', df_locf['value'][i], ' -- Previous Cell: ',df_locf['value'][i-1])\n",
        "    except:\n",
        "      df_locf['value'][i] = 0 # 예외규칙\n",
        "      print('NaN cell: ', df_locf['value'][i],'is first cell')"
      ],
      "execution_count": 11,
      "outputs": [
        {
          "output_type": "stream",
          "name": "stdout",
          "text": [
            "NaN cell:  3.180891  -- Previous Cell:  3.180891\n",
            "NaN cell:  4.38653092  -- Previous Cell:  4.38653092\n",
            "NaN cell:  3.84127758  -- Previous Cell:  3.84127758\n",
            "NaN cell:  5.20445484  -- Previous Cell:  5.20445484\n",
            "NaN cell:  5.19475419  -- Previous Cell:  5.19475419\n",
            "NaN cell:  5.25674157  -- Previous Cell:  5.25674157\n",
            "NaN cell:  8.32945212  -- Previous Cell:  8.32945212\n",
            "NaN cell:  5.26255667  -- Previous Cell:  5.26255667\n",
            "NaN cell:  8.60693721  -- Previous Cell:  8.60693721\n",
            "NaN cell:  5.27791837  -- Previous Cell:  5.27791837\n",
            "NaN cell:  7.05083102  -- Previous Cell:  7.05083102\n",
            "NaN cell:  10.09623339  -- Previous Cell:  10.09623339\n",
            "NaN cell:  7.06420058  -- Previous Cell:  7.06420058\n",
            "NaN cell:  7.06420058  -- Previous Cell:  7.06420058\n",
            "NaN cell:  8.16532298  -- Previous Cell:  8.16532298\n",
            "NaN cell:  9.07096378  -- Previous Cell:  9.07096378\n",
            "NaN cell:  8.47400037  -- Previous Cell:  8.47400037\n",
            "NaN cell:  10.8342948  -- Previous Cell:  10.8342948\n",
            "NaN cell:  9.90816186  -- Previous Cell:  9.90816186\n",
            "NaN cell:  11.34015074  -- Previous Cell:  11.34015074\n",
            "NaN cell:  10.64705979  -- Previous Cell:  10.64705979\n",
            "NaN cell:  12.96573509  -- Previous Cell:  12.96573509\n",
            "NaN cell:  12.997900099999999  -- Previous Cell:  12.997900099999999\n",
            "NaN cell:  12.154552  -- Previous Cell:  12.154552\n",
            "NaN cell:  20.031291  -- Previous Cell:  20.031291\n",
            "NaN cell:  22.93035694  -- Previous Cell:  22.93035694\n"
          ]
        },
        {
          "output_type": "stream",
          "name": "stderr",
          "text": [
            "/usr/local/lib/python3.7/dist-packages/ipykernel_launcher.py:4: SettingWithCopyWarning: \n",
            "A value is trying to be set on a copy of a slice from a DataFrame\n",
            "\n",
            "See the caveats in the documentation: https://pandas.pydata.org/pandas-docs/stable/user_guide/indexing.html#returning-a-view-versus-a-copy\n",
            "  after removing the cwd from sys.path.\n"
          ]
        }
      ]
    },
    {
      "cell_type": "code",
      "metadata": {
        "colab": {
          "base_uri": "https://localhost:8080/"
        },
        "id": "whhq-d5emqvm",
        "outputId": "9ebc0844-6186-4605-a971-60cb1237a306"
      },
      "source": [
        "n_nan = np.isnan(df_locf['value']).sum()\n",
        "print('The number of NaN is', n_nan)"
      ],
      "execution_count": 12,
      "outputs": [
        {
          "output_type": "stream",
          "name": "stdout",
          "text": [
            "The number of NaN is 0\n"
          ]
        }
      ]
    },
    {
      "cell_type": "markdown",
      "metadata": {
        "id": "-Ukc43ozov79"
      },
      "source": [
        "# 4. NOCB: Next Observation Carried Backward"
      ]
    },
    {
      "cell_type": "code",
      "metadata": {
        "id": "-eTppJEHou80"
      },
      "source": [
        "df_nocb = df_missing.copy()"
      ],
      "execution_count": 13,
      "outputs": []
    },
    {
      "cell_type": "code",
      "metadata": {
        "colab": {
          "base_uri": "https://localhost:8080/"
        },
        "id": "PZlDMdvgpCqd",
        "outputId": "94694660-c0e7-4147-9810-7fbd7df0ad98"
      },
      "source": [
        "for i in range(np.shape(df_nocb)[0]):\n",
        "  if np.isnan(df_nocb['value'][i]):\n",
        "    try:\n",
        "      df_nocb['value'][i] = df_nocb['value'][i+1]\n",
        "      print('NaN cell: ', df_nocb['value'][i], ' -- Next Cell: ',df_nocb['value'][i+1])\n",
        "    except:\n",
        "      df_nocb['value'][i] = 0 # 예외규칙\n",
        "      print('NaN cell: ', df_nocb['value'][i],'is last cell')"
      ],
      "execution_count": 14,
      "outputs": [
        {
          "output_type": "stream",
          "name": "stdout",
          "text": [
            "NaN cell:  3.6110029999999997  -- Next Cell:  3.6110029999999997\n",
            "NaN cell:  6.19206769  -- Next Cell:  6.19206769\n",
            "NaN cell:  4.07534073  -- Next Cell:  4.07534073\n",
            "NaN cell:  5.77374216  -- Next Cell:  5.77374216\n",
            "NaN cell:  5.25674157  -- Next Cell:  5.25674157\n",
            "NaN cell:  5.49072901  -- Next Cell:  5.49072901\n",
            "NaN cell:  5.26255667  -- Next Cell:  5.26255667\n",
            "NaN cell:  6.110296  -- Next Cell:  6.110296\n",
            "NaN cell:  5.27791837  -- Next Cell:  5.27791837\n",
            "NaN cell:  6.21452908  -- Next Cell:  6.21452908\n",
            "NaN cell:  7.25098761  -- Next Cell:  7.25098761\n",
            "NaN cell:  5.91826076  -- Next Cell:  5.91826076\n",
            "NaN cell:  nan  -- Next Cell:  nan\n",
            "NaN cell:  7.43189221  -- Next Cell:  7.43189221\n",
            "NaN cell:  9.07096378  -- Next Cell:  9.07096378\n",
            "NaN cell:  9.25188674  -- Next Cell:  9.25188674\n",
            "NaN cell:  9.56039945  -- Next Cell:  9.56039945\n",
            "NaN cell:  9.90816186  -- Next Cell:  9.90816186\n",
            "NaN cell:  11.34015074  -- Next Cell:  11.34015074\n",
            "NaN cell:  14.49758109  -- Next Cell:  14.49758109\n",
            "NaN cell:  13.67446631  -- Next Cell:  13.67446631\n",
            "NaN cell:  9.05348536  -- Next Cell:  9.05348536\n",
            "NaN cell:  13.94344681  -- Next Cell:  13.94344681\n",
            "NaN cell:  14.459239000000002  -- Next Cell:  14.459239000000002\n",
            "NaN cell:  12.536987  -- Next Cell:  12.536987\n",
            "NaN cell:  25.25003022  -- Next Cell:  25.25003022\n"
          ]
        },
        {
          "output_type": "stream",
          "name": "stderr",
          "text": [
            "/usr/local/lib/python3.7/dist-packages/ipykernel_launcher.py:4: SettingWithCopyWarning: \n",
            "A value is trying to be set on a copy of a slice from a DataFrame\n",
            "\n",
            "See the caveats in the documentation: https://pandas.pydata.org/pandas-docs/stable/user_guide/indexing.html#returning-a-view-versus-a-copy\n",
            "  after removing the cwd from sys.path.\n"
          ]
        }
      ]
    },
    {
      "cell_type": "code",
      "metadata": {
        "colab": {
          "base_uri": "https://localhost:8080/"
        },
        "id": "_yCSnEccpjlV",
        "outputId": "57211948-fc52-461e-fc4b-e994df7e8f6c"
      },
      "source": [
        "n_nan = np.isnan(df_nocb['value']).sum()\n",
        "print('The number of NaN is', n_nan)"
      ],
      "execution_count": 15,
      "outputs": [
        {
          "output_type": "stream",
          "name": "stdout",
          "text": [
            "The number of NaN is 1\n"
          ]
        }
      ]
    },
    {
      "cell_type": "markdown",
      "metadata": {
        "id": "mFDuMQHbp_3r"
      },
      "source": [
        "# 5. Linear Interpolation"
      ]
    },
    {
      "cell_type": "code",
      "metadata": {
        "id": "8PiD9hMtqETu"
      },
      "source": [
        "df_linear = df_missing.copy()"
      ],
      "execution_count": 16,
      "outputs": []
    },
    {
      "cell_type": "code",
      "metadata": {
        "colab": {
          "base_uri": "https://localhost:8080/"
        },
        "id": "OaeNeep8qJFe",
        "outputId": "440c38b4-0493-4447-e9b5-5550ea1d9d97"
      },
      "source": [
        "for i in range(np.shape(df_linear)[0]):\n",
        "  if np.isnan(df_linear['value'][i]):\n",
        "    try:\n",
        "      if (np.isnan(df_linear['value'][i-1])==False) & (np.isnan(df_linear['value'][i+1])==False):\n",
        "        df_linear['value'][i] = (df_linear['value'][i-1] + df_linear['value'][i+1] )/2\n",
        "        print('NaN cell: ', df_linear['value'][i], ' -- Previous Cell: ',df_linear['value'][i-1], ' -- Next Cell: ', df_linear['value'][i+1])\n",
        "      else: # nan가 연달아 존재하는 경우\n",
        "        try: \n",
        "          df_linear['value'][i] = df_linear['value'][i-1]\n",
        "          print('NaN cell: ', df_linear['value'][i], ' -- Previous Cell: ',df_linear['value'][i-1], ' -- No Next Cell')\n",
        "\n",
        "        except: \n",
        "          df_linear['value'][i] = df_linear['value'][i+1]\n",
        "          print('NaN cell: ', df_linear['value'][i], ' -- Next Cell: ',df_linear['value'][i+1], ' -- No Previous Cell')\n",
        "    except:\n",
        "        try: # At last cell\n",
        "          df_linear['value'][i] = df_linear['value'][i-1]\n",
        "          print('NaN cell: ', df_linear['value'][i], ' -- Previous Cell: ',df_linear['value'][i-1], ' -- No Next Cell')\n",
        "\n",
        "        except: # At first cell\n",
        "          df_linear['value'][i] = df_linear['value'][i+1]\n",
        "          print('NaN cell: ', df_linear['value'][i], ' -- Next Cell: ',df_linear['value'][i+1], ' -- No Previous Cell')\n"
      ],
      "execution_count": 17,
      "outputs": [
        {
          "output_type": "stream",
          "name": "stderr",
          "text": [
            "/usr/local/lib/python3.7/dist-packages/ipykernel_launcher.py:5: SettingWithCopyWarning: \n",
            "A value is trying to be set on a copy of a slice from a DataFrame\n",
            "\n",
            "See the caveats in the documentation: https://pandas.pydata.org/pandas-docs/stable/user_guide/indexing.html#returning-a-view-versus-a-copy\n",
            "  \"\"\"\n"
          ]
        },
        {
          "output_type": "stream",
          "name": "stdout",
          "text": [
            "NaN cell:  3.3959469999999996  -- Previous Cell:  3.180891  -- Next Cell:  3.6110029999999997\n",
            "NaN cell:  5.289299305  -- Previous Cell:  4.38653092  -- Next Cell:  6.19206769\n",
            "NaN cell:  3.958309155  -- Previous Cell:  3.84127758  -- Next Cell:  4.07534073\n",
            "NaN cell:  5.489098500000001  -- Previous Cell:  5.20445484  -- Next Cell:  5.77374216\n",
            "NaN cell:  5.22574788  -- Previous Cell:  5.19475419  -- Next Cell:  5.25674157\n",
            "NaN cell:  5.37373529  -- Previous Cell:  5.25674157  -- Next Cell:  5.49072901\n",
            "NaN cell:  6.796004395  -- Previous Cell:  8.32945212  -- Next Cell:  5.26255667\n",
            "NaN cell:  5.686426335  -- Previous Cell:  5.26255667  -- Next Cell:  6.110296\n",
            "NaN cell:  6.94242779  -- Previous Cell:  8.60693721  -- Next Cell:  5.27791837\n",
            "NaN cell:  5.746223725  -- Previous Cell:  5.27791837  -- Next Cell:  6.21452908\n",
            "NaN cell:  7.150909315  -- Previous Cell:  7.05083102  -- Next Cell:  7.25098761\n",
            "NaN cell:  8.007247075  -- Previous Cell:  10.09623339  -- Next Cell:  5.91826076\n",
            "NaN cell:  7.06420058  -- Previous Cell:  7.06420058  -- No Next Cell\n",
            "NaN cell:  7.248046394999999  -- Previous Cell:  7.06420058  -- Next Cell:  7.43189221\n",
            "NaN cell:  8.61814338  -- Previous Cell:  8.16532298  -- Next Cell:  9.07096378\n",
            "NaN cell:  9.16142526  -- Previous Cell:  9.07096378  -- Next Cell:  9.25188674\n",
            "NaN cell:  9.01719991  -- Previous Cell:  8.47400037  -- Next Cell:  9.56039945\n",
            "NaN cell:  10.371228330000001  -- Previous Cell:  10.8342948  -- Next Cell:  9.90816186\n",
            "NaN cell:  10.6241563  -- Previous Cell:  9.90816186  -- Next Cell:  11.34015074\n",
            "NaN cell:  12.918865915000001  -- Previous Cell:  11.34015074  -- Next Cell:  14.49758109\n",
            "NaN cell:  12.16076305  -- Previous Cell:  10.64705979  -- Next Cell:  13.67446631\n",
            "NaN cell:  11.009610225  -- Previous Cell:  12.96573509  -- Next Cell:  9.05348536\n",
            "NaN cell:  13.470673455  -- Previous Cell:  12.997900099999999  -- Next Cell:  13.94344681\n",
            "NaN cell:  13.306895500000001  -- Previous Cell:  12.154552  -- Next Cell:  14.459239000000002\n",
            "NaN cell:  16.284139  -- Previous Cell:  20.031291  -- Next Cell:  12.536987\n",
            "NaN cell:  24.090193579999998  -- Previous Cell:  22.93035694  -- Next Cell:  25.25003022\n"
          ]
        },
        {
          "output_type": "stream",
          "name": "stderr",
          "text": [
            "/usr/local/lib/python3.7/dist-packages/ipykernel_launcher.py:9: SettingWithCopyWarning: \n",
            "A value is trying to be set on a copy of a slice from a DataFrame\n",
            "\n",
            "See the caveats in the documentation: https://pandas.pydata.org/pandas-docs/stable/user_guide/indexing.html#returning-a-view-versus-a-copy\n",
            "  if __name__ == '__main__':\n"
          ]
        }
      ]
    },
    {
      "cell_type": "code",
      "metadata": {
        "colab": {
          "base_uri": "https://localhost:8080/"
        },
        "id": "W62BP-JzrsMO",
        "outputId": "899d104e-4110-4b64-cb70-8320ee3b4ee6"
      },
      "source": [
        "n_nan = np.isnan(df_linear['value']).sum()\n",
        "print('The number of NaN is', n_nan)"
      ],
      "execution_count": 18,
      "outputs": [
        {
          "output_type": "stream",
          "name": "stdout",
          "text": [
            "The number of NaN is 0\n"
          ]
        }
      ]
    }
  ]
}